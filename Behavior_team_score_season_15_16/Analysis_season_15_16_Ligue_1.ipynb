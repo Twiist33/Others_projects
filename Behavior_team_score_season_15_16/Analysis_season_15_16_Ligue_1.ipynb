{
 "cells": [
  {
   "cell_type": "markdown",
   "id": "ca4bd138-9ad0-4b15-ac1a-0ff92271e72a",
   "metadata": {},
   "source": [
    " <h1 style=\"text-align:center;\">Analysis of the behavior of a team according to score by Romain Traboul</h1>\n",
    " \n",
    "**Test statement**: Select a player(s) or team(s) and a topic of your choice and write a short analysis piece (~500 words) including some data visualisations.\n",
    "\n",
    "**Database**: To carry out this test, open source Statsbomb data and the statsbombpy library can be used."
   ]
  },
  {
   "cell_type": "markdown",
   "id": "9b22fdec-ae4e-4ee1-8d94-a5af4743e7cd",
   "metadata": {},
   "source": [
    "**Subject**: The subject is the visualization of key statistical indicators over a soccer season, in terms of whether a team is leading, drawing or being led. To do this, we'll use the 2015-2016 Ligue 1 season, and the team analyzed will be Rennes. These indicators will be displayed through 2 prisms : Rennes' statistics and the statistics of teams playing against Rennes. Please note that all statistics are reported at 90 minutes."
   ]
  },
  {
   "cell_type": "markdown",
   "id": "1a3f8b43-565b-43e2-84d4-7399c006cdbb",
   "metadata": {},
   "source": [
    "## <span style=\"color:orange\">**Task 1 :**</span> Data extraction / Data pre-processing"
   ]
  },
  {
   "cell_type": "markdown",
   "id": "2fb1e8a8-c520-4478-a3a9-e551aeb3fade",
   "metadata": {},
   "source": [
    "To begin with, we're going to download the libraries needed for the project (this is in comments if it's already been done)."
   ]
  },
  {
   "cell_type": "code",
   "execution_count": 36,
   "id": "5e415f2f-d53f-4a11-8d33-92c0a20576e3",
   "metadata": {},
   "outputs": [],
   "source": [
    "# Installation of libraries required for the project\n",
    "\n",
    "#!pip install statsbombpy # Used to retrieve match data\n",
    "#!pip install -U kaleido # Used to download pdf graphics"
   ]
  },
  {
   "cell_type": "markdown",
   "id": "ec6a170e-0e58-4a2e-8bcb-4b1ee0ea1c33",
   "metadata": {},
   "source": [
    "As a 1st step, we extract the events of the 2015-2016 Ligue 1 season, keeping the information that will be useful to us later."
   ]
  },
  {
   "cell_type": "code",
   "execution_count": 37,
   "id": "6771d566-3ce6-48f1-b08e-2af9ab10f511",
   "metadata": {},
   "outputs": [
    {
     "name": "stderr",
     "output_type": "stream",
     "text": [
      "Match processing: 100%|███████████████████████| 377/377 [22:57<00:00,  3.65s/it]\n"
     ]
    }
   ],
   "source": [
    "# Importing libraries\n",
    "from statsbombpy import sb\n",
    "import pandas as pd\n",
    "import os\n",
    "from tqdm import tqdm\n",
    "import warnings\n",
    "from statsbombpy.api_client import NoAuthWarning\n",
    "\n",
    "# Withdrawal of the warning informing us that we are using open data\n",
    "warnings.filterwarnings(\"ignore\", category=NoAuthWarning)\n",
    "\n",
    "# Storage of competition name and season selected\n",
    "competition_name = \"Ligue 1\"\n",
    "season_name = \"2015/2016\"\n",
    "\n",
    "# Columns to keep from Statsbomb match events\n",
    "columns_to_keep = [\n",
    "    'index', 'match_id', 'period', 'minute', 'second', 'player', 'team', 'possession',\n",
    "    'possession_team', 'type', 'play_pattern', 'location', 'duel_type', 'duel_outcome',\n",
    "    'duration','pass_outcome', 'shot_outcome', 'shot_statsbomb_xg'\n",
    "]\n",
    "\n",
    "# Event types to exclude from Statsbomb match events\n",
    "types_to_exclude = [\n",
    "    'Ball Receipt*', 'Half Start', 'Half End', 'Referee Ball-Drop', 'Injury Stoppage',\n",
    "    'Tactical Shift', 'Starting XI', 'Player Off', 'Player On', 'Own Goal For',\n",
    "    'Goal Keeper', 'Substitution', 'Dribbled Past'\n",
    "]\n",
    "\n",
    "# Creation of a function indicating whether there is a goal during the action\n",
    "def map_outcome_goal(row):\n",
    "    if row.get('shot_outcome') == 'Goal' or row.get('type') == 'Own Goal Against':\n",
    "        return 1\n",
    "    return 0\n",
    "\n",
    "# Competition_id and season_id retrieval based on previously entered information (competition_name, season_name)\n",
    "competitions_data = sb.competitions()\n",
    "competition_id = competitions_data[competitions_data[\"competition_name\"] == competition_name][\"competition_id\"].iloc[0]\n",
    "season_id = competitions_data[competitions_data[\"season_name\"] == season_name][\"season_id\"].iloc[0]\n",
    "\n",
    "# Match retrieval\n",
    "matches_data = sb.matches(competition_id=competition_id, season_id=season_id)\n",
    "\n",
    "# Main folder\n",
    "os.makedirs(\"data\", exist_ok=True) \n",
    "\n",
    "# Processing each match with a progress bar\n",
    "for _, match in tqdm(matches_data.iterrows(), total=len(matches_data), desc=\"Match processing\"):\n",
    "    \n",
    "    # Retrieve information on the match identifier and the names of the two teams\n",
    "    match_id = match['match_id']\n",
    "    home_team = match['home_team']\n",
    "    away_team = match['away_team']\n",
    "\n",
    "    # Search for match events\n",
    "    events_data = sb.events(match_id=match_id)\n",
    "\n",
    "    # Filter columns\n",
    "    available_columns = [col for col in columns_to_keep if col in events_data.columns]\n",
    "    events_data = events_data[available_columns]\n",
    "\n",
    "    # Filter unwanted types\n",
    "    if 'type' in events_data.columns:\n",
    "        events_data = events_data[~events_data['type'].isin(types_to_exclude)]\n",
    "\n",
    "    # Sort by index if present\n",
    "    if 'index' in events_data.columns:\n",
    "        events_data = events_data.sort_values(by='index').reset_index(drop=True)\n",
    "\n",
    "    # Add our column outcome_goal\n",
    "    events_data['outcome_goal'] = events_data.apply(map_outcome_goal, axis=1)\n",
    "\n",
    "    # Add location_x and location_y to separate this information\n",
    "    events_data['location_x'] = events_data['location'].apply(lambda loc: loc[0] if isinstance(loc, list) else None)\n",
    "    events_data['location_y'] = events_data['location'].apply(lambda loc: loc[1] if isinstance(loc, list) else None)\n",
    "\n",
    "    # Add time_sec for single-column information on match time\n",
    "    events_data['time_sec'] = events_data['minute'] * 60 + events_data['second']\n",
    "\n",
    "    # Initialization of the match score for each event\n",
    "    home_score_list = []\n",
    "    away_score_list = []\n",
    "    home_score = 0\n",
    "    away_score = 0\n",
    "\n",
    "    # Score update (in n+1)\n",
    "    for i in range(len(events_data)):\n",
    "        home_score_list.append(home_score)\n",
    "        away_score_list.append(away_score)\n",
    "\n",
    "        # Find the lines where there is a goal, the team with the ball and the type of action at that moment\n",
    "        is_goal = events_data.loc[i, 'outcome_goal'] == 1\n",
    "        possession_team = events_data.loc[i, 'possession_team']\n",
    "        event_team = events_data.loc[i, 'team']\n",
    "        event_type = events_data.loc[i, 'type']\n",
    "        \n",
    "        # Count the goal even if it's an own goal\n",
    "        if is_goal:\n",
    "            if possession_team == home_team or (event_type == 'Own Goal Against' and event_team == away_team):\n",
    "                home_score += 1\n",
    "            elif possession_team == away_team or (event_type == 'Own Goal Against' and event_team == home_team):\n",
    "                away_score += 1\n",
    "\n",
    "    events_data['home_score'] = home_score_list\n",
    "    events_data['away_score'] = away_score_list\n",
    "\n",
    "    # Add state_match according to match score\n",
    "    def compute_state(row):\n",
    "        if row['home_score'] > row['away_score']:\n",
    "            return 'home_win'\n",
    "        elif row['home_score'] < row['away_score']:\n",
    "            return 'away_win'\n",
    "        else:\n",
    "            return 'draw'\n",
    "\n",
    "    events_data['state_match'] = events_data.apply(compute_state, axis=1)\n",
    "\n",
    "    # Column initialization of the number of seconds spent in each state\n",
    "    events_data['time_sec_home_lead'] = 0\n",
    "    events_data['time_sec_draw'] = 0\n",
    "    events_data['time_sec_away_lead'] = 0\n",
    "\n",
    "    # Counter initialization\n",
    "    time_home = 0\n",
    "    time_draw = 0\n",
    "    time_away = 0\n",
    "\n",
    "    # Iteration on DataFrame rows\n",
    "    for i in range(1, len(events_data)):\n",
    "        # Seconds countdown\n",
    "        delta = events_data.loc[i, 'time_sec'] - events_data.loc[i - 1, 'time_sec']\n",
    "        if delta < 0:\n",
    "            delta = 0\n",
    "    \n",
    "        state = events_data.loc[i - 1, 'state_match']\n",
    "        \n",
    "        # Add seconds when switching to associated state\n",
    "        if state == 'home_win':\n",
    "            time_home += delta\n",
    "        elif state == 'draw':\n",
    "            time_draw += delta\n",
    "        elif state == 'away_win':\n",
    "            time_away += delta\n",
    "    \n",
    "        events_data.loc[i, 'time_sec_home_lead'] = time_home\n",
    "        events_data.loc[i, 'time_sec_draw'] = time_draw\n",
    "        events_data.loc[i, 'time_sec_away_lead'] = time_away\n",
    "\n",
    "    # Drop now useless columns\n",
    "    events_data = events_data.drop(columns=['shot_outcome', 'location'], errors='ignore')\n",
    "\n",
    "    # Save to folders\n",
    "    for team in [home_team, away_team]:\n",
    "        team_folder = f\"data/{team.replace('/', '-')}\"\n",
    "        os.makedirs(team_folder, exist_ok=True)\n",
    "        file_path = os.path.join(team_folder, f\"events_{match_id}.csv\")\n",
    "        events_data.to_csv(file_path, index=False)"
   ]
  },
  {
   "cell_type": "markdown",
   "id": "631a52da-6363-4d2b-90a0-455173297fac",
   "metadata": {},
   "source": [
    "It's also worth noting that 3 matches are missing from the full list."
   ]
  },
  {
   "cell_type": "markdown",
   "id": "9aaa7797-4753-443e-8123-df658ebff042",
   "metadata": {},
   "source": [
    "## <span style=\"color:orange\">**Task 2 :**</span> Storage of desired statistics per match"
   ]
  },
  {
   "cell_type": "markdown",
   "id": "ff281131-f4b6-4c1b-9b16-6e3c859adf45",
   "metadata": {},
   "source": [
    "Next, we will store the essential information for each match of the season in a csv file."
   ]
  },
  {
   "cell_type": "code",
   "execution_count": 75,
   "id": "40bfe2d4-7818-4a92-ace1-56dd608fa145",
   "metadata": {},
   "outputs": [
    {
     "name": "stderr",
     "output_type": "stream",
     "text": [
      "Processing matches: 100%|█████████████████████| 377/377 [03:12<00:00,  1.95it/s]\n"
     ]
    }
   ],
   "source": [
    "# Importing libraries\n",
    "from statsbombpy import sb\n",
    "import pandas as pd\n",
    "import os\n",
    "import csv\n",
    "from tqdm import tqdm\n",
    "import warnings\n",
    "from statsbombpy.api_client import NoAuthWarning\n",
    "\n",
    "# Withdrawal of the warning informing us that we are using open data\n",
    "warnings.filterwarnings(\"ignore\", category=NoAuthWarning)\n",
    "\n",
    "# Storage of competition name and season selected\n",
    "competition_name = \"Ligue 1\"\n",
    "season_name = \"2015/2016\"\n",
    "\n",
    "# Competition_id and season_id retrieval based on previously entered information (competition_name, season_name)\n",
    "competitions_data = sb.competitions()\n",
    "competition_id = competitions_data[competitions_data[\"competition_name\"] == competition_name][\"competition_id\"].iloc[0]\n",
    "season_id = competitions_data[competitions_data[\"season_name\"] == season_name][\"season_id\"].iloc[0]\n",
    "\n",
    "# Load matches data via sb.matches\n",
    "matches_data = sb.matches(competition_id=competition_id, season_id=season_id)\n",
    "\n",
    "# Define goal state columns\n",
    "goal_state_columns = [\n",
    "    'home_lead_goal', 'home_draw_goal', 'home_loose_goal',\n",
    "    'away_lead_goal', 'away_draw_goal', 'away_loose_goal'\n",
    "]\n",
    "\n",
    "# Define possession proportion columns\n",
    "poss_state_columns = [\n",
    "    'home_lead_poss', 'home_draw_poss', 'home_loose_poss',\n",
    "    'away_lead_poss', 'away_draw_poss', 'away_loose_poss'\n",
    "]\n",
    "\n",
    "# Define PPDA columns\n",
    "ppda_columns = [\n",
    "    'home_lead_ppda', 'home_draw_ppda', 'home_loose_ppda',\n",
    "    'away_lead_ppda', 'away_draw_ppda', 'away_loose_ppda'\n",
    "]\n",
    "\n",
    "# Defensive action types considered for PPDA\n",
    "defensive_actions = [\n",
    "    'Interception','Foul Committed','Duel'\n",
    "]\n",
    "\n",
    "# Define xG columns per game state\n",
    "xg_state_columns = [\n",
    "    'home_lead_xg', 'home_draw_xg', 'home_loose_xg',\n",
    "    'away_lead_xg', 'away_draw_xg', 'away_loose_xg'\n",
    "]\n",
    "\n",
    "# Defensive action average height per game state and team\n",
    "height_def_cols = [\n",
    "    'home_lead_height_def_act', 'home_draw_height_def_act', 'home_loose_height_def_act',\n",
    "    'away_lead_height_def_act', 'away_draw_height_def_act', 'away_loose_height_def_act'\n",
    "]\n",
    "\n",
    "# Define foul won columns\n",
    "foul_won_cols = [\n",
    "    'home_lead_foul_won', 'home_draw_foul_won', 'home_loose_foul_won',\n",
    "    'away_lead_foul_won', 'away_draw_foul_won', 'away_loose_foul_won'\n",
    "]\n",
    "\n",
    "# Define foul committed columns\n",
    "foul_com_cols = [\n",
    "    'home_lead_foul_com', 'home_draw_foul_com', 'home_loose_foul_com',\n",
    "    'away_lead_foul_com', 'away_draw_foul_com', 'away_loose_foul_com'\n",
    "]\n",
    "\n",
    "# Define duel won columns\n",
    "duel_cols = [\n",
    "    'home_lead_duel_won', 'home_draw_duel_won', 'home_loose_duel_won',\n",
    "    'away_lead_duel_won', 'away_draw_duel_won', 'away_loose_duel_won'\n",
    "]\n",
    "\n",
    "# Define play pattern columns\n",
    "play_pattern_columns = [\n",
    "    # home_lead\n",
    "    'home_lead_regular_play','home_lead_from_corner', 'home_lead_from_free_kick', 'home_lead_from_throw_in',\n",
    "    'home_lead_other', 'home_lead_from_counter', 'home_lead_from_goal_kick',\n",
    "    'home_lead_from_keeper', 'home_lead_from_kick_off',\n",
    "    # home_draw\n",
    "    'home_draw_regular_play','home_draw_from_corner', 'home_draw_from_free_kick', 'home_draw_from_throw_in',\n",
    "    'home_draw_other', 'home_draw_from_counter', 'home_draw_from_goal_kick',\n",
    "    'home_draw_from_keeper', 'home_draw_from_kick_off',\n",
    "    # home_loose\n",
    "    'home_loose_regular_play','home_loose_from_corner', 'home_loose_from_free_kick', 'home_loose_from_throw_in',\n",
    "    'home_loose_other', 'home_loose_from_counter', 'home_loose_from_goal_kick',\n",
    "    'home_loose_from_keeper', 'home_loose_from_kick_off',\n",
    "    # away_lead\n",
    "    'away_lead_regular_play','away_lead_from_corner', 'away_lead_from_free_kick', 'away_lead_from_throw_in',\n",
    "    'away_lead_other', 'away_lead_from_counter', 'away_lead_from_goal_kick',\n",
    "    'away_lead_from_keeper', 'away_lead_from_kick_off',\n",
    "    # away_draw\n",
    "    'away_draw_regular_play','away_draw_from_corner', 'away_draw_from_free_kick', 'away_draw_from_throw_in',\n",
    "    'away_draw_other', 'away_draw_from_counter', 'away_draw_from_goal_kick',\n",
    "    'away_draw_from_keeper', 'away_draw_from_kick_off',\n",
    "    # away_loose\n",
    "    'away_loose_regular_play','away_loose_from_corner', 'away_loose_from_free_kick', 'away_loose_from_throw_in',\n",
    "    'away_loose_other', 'away_loose_from_counter', 'away_loose_from_goal_kick',\n",
    "    'away_loose_from_keeper', 'away_loose_from_kick_off'\n",
    "]\n",
    "\n",
    "# Initialize list to store match data\n",
    "match_rows = []\n",
    "\n",
    "# Processing each match with a progress bar\n",
    "for _, row in tqdm(matches_data.iterrows(), total=len(matches_data), desc=\"Processing matches\"):\n",
    "\n",
    "    # Retrieve information on the match identifier and the names of the two teams\n",
    "    match_id = row['match_id']\n",
    "    home_team = row['home_team']\n",
    "    away_team = row['away_team']\n",
    "\n",
    "    # Search for the associated events file\n",
    "    event_file = f\"data/{home_team.replace('/', '-')}/events_{match_id}.csv\"\n",
    "\n",
    "    # Initialize temporal proportions\n",
    "    home_lead_prop = draw_prop = away_lead_prop = None\n",
    "\n",
    "    # Initialize dictionaries\n",
    "    goal_stats = {col: 0 for col in goal_state_columns}\n",
    "    poss_stats = {col: None for col in poss_state_columns}\n",
    "    ppda_stats = {col: None for col in ppda_columns}\n",
    "    xg_stats = {col: 0.0 for col in xg_state_columns}\n",
    "    height_def_stats = {col: None for col in height_def_cols}\n",
    "    foul_won_stats = {col: 0 for col in foul_won_cols}\n",
    "    foul_com_stats = {col: 0 for col in foul_com_cols}\n",
    "    duel_stats = {col: None for col in duel_cols}\n",
    "    play_pattern_stats = {col: 0 for col in play_pattern_columns}\n",
    "    \n",
    "    if os.path.exists(event_file):\n",
    "        try:\n",
    "            # Reading the file\n",
    "            df = pd.read_csv(event_file)\n",
    "\n",
    "            # === Time proportions per game state ===\n",
    "            if all(col in df.columns for col in ['time_sec_home_lead', 'time_sec_draw', 'time_sec_away_lead']):\n",
    "                \n",
    "                # Read the last line of the file and store the number of seconds spent in each state\n",
    "                last_row = df.iloc[-1]\n",
    "                total_time = (\n",
    "                    last_row['time_sec_home_lead']\n",
    "                    + last_row['time_sec_draw']\n",
    "                    + last_row['time_sec_away_lead']\n",
    "                )\n",
    "                \n",
    "                # Calculate and round up the proportion of time spent on the match in each state\n",
    "                if total_time > 0:\n",
    "                    home_lead_prop = round(100 * last_row['time_sec_home_lead'] / total_time, 2)\n",
    "                    draw_prop = round(100 * last_row['time_sec_draw'] / total_time, 2)\n",
    "                    away_lead_prop = round(100 * last_row['time_sec_away_lead'] / total_time, 2)\n",
    "\n",
    "            # === Goals by game state ===\n",
    "            for i in range(len(df)):\n",
    "                \n",
    "                # Search for lines where there is a goal, the name of the team involved, the type of action etc...\n",
    "                is_goal = df.loc[i, 'outcome_goal'] == 1\n",
    "                possession_team = df.loc[i, 'possession_team']\n",
    "                event_team = df.loc[i, 'team']\n",
    "                event_type = df.loc[i, 'type']\n",
    "                state = df.loc[i, 'state_match']\n",
    "\n",
    "                if not is_goal or pd.isna(state):\n",
    "                    continue\n",
    "\n",
    "                # Goal for home team (add a goal in the associated state)\n",
    "                if possession_team == home_team or (event_type == 'Own Goal Against' and event_team == away_team):\n",
    "                    if state == 'home_win':\n",
    "                        goal_stats['home_lead_goal'] += 1\n",
    "                    elif state == 'draw':\n",
    "                        goal_stats['home_draw_goal'] += 1\n",
    "                    elif state == 'away_win':\n",
    "                        goal_stats['home_loose_goal'] += 1\n",
    "\n",
    "                # Goal for away team (add a goal in the associated state)\n",
    "                elif possession_team == away_team or (event_type == 'Own Goal Against' and event_team == home_team):\n",
    "                    if state == 'away_win':\n",
    "                        goal_stats['away_lead_goal'] += 1\n",
    "                    elif state == 'draw':\n",
    "                        goal_stats['away_draw_goal'] += 1\n",
    "                    elif state == 'home_win':\n",
    "                        goal_stats['away_loose_goal'] += 1\n",
    "\n",
    "            # === Possession proportions per game state ===\n",
    "            if all(col in df.columns for col in ['duration', 'possession_team', 'state_match', 'type']):\n",
    "                \n",
    "                # Excluding Pressure events as it does not count towards the teams' possession.\n",
    "                filtered_df = df[df['type'] != 'Pressure']\n",
    "                # Cumulation of time in possession\n",
    "                state_groups = filtered_df.groupby(['state_match', 'possession_team'])['duration'].sum()\n",
    "                state_totals = filtered_df.groupby('state_match')['duration'].sum()\n",
    "\n",
    "                # Calculation of the proportion of rounded possession in each state\n",
    "                def get_prop(state, team):\n",
    "                    return round(100 * state_groups.get((state, team), 0) / state_totals.get(state, 1), 2)\n",
    "\n",
    "                poss_stats['home_lead_poss'] = get_prop('home_win', home_team)\n",
    "                poss_stats['home_draw_poss'] = get_prop('draw', home_team)\n",
    "                poss_stats['home_loose_poss'] = get_prop('away_win', home_team)\n",
    "                poss_stats['away_lead_poss'] = get_prop('away_win', away_team)\n",
    "                poss_stats['away_draw_poss'] = get_prop('draw', away_team)\n",
    "                poss_stats['away_loose_poss'] = get_prop('home_win', away_team)\n",
    "\n",
    "            # === PPDA calculation per game state and team ===\n",
    "            if all(col in df.columns for col in ['type', 'team', 'location_x', 'state_match']):\n",
    "                # 60% of the terrain in the direction of the attack is counted here (i.e. from 48 to 120).\n",
    "                zone_df = df[df['location_x'] > 48]\n",
    "\n",
    "                # Calculation (rounding) of the number of passes made by a team, and the number of defensive moves made by the opponent, \n",
    "                # according to the criteria set out.\n",
    "                for state in ['home_win', 'draw', 'away_win']:\n",
    "                    # Home team PPDA in this state\n",
    "                    passes = len(zone_df[(zone_df['state_match'] == state) & (zone_df['type'] == 'Pass') & (zone_df['team'] == away_team)])\n",
    "                    defenses = len(zone_df[(zone_df['state_match'] == state) & (zone_df['type'].isin(defensive_actions)) & (zone_df['team'] == home_team) & (zone_df['possession_team'] == away_team)])\n",
    "                    key = f'home_{\"lead\" if state == \"home_win\" else \"draw\" if state == \"draw\" else \"loose\"}_ppda'\n",
    "                    ppda_stats[key] = round(passes / defenses, 2) if defenses > 0 else None\n",
    "\n",
    "                    # Away team PPDA in this state\n",
    "                    passes = len(zone_df[(zone_df['state_match'] == state) & (zone_df['type'] == 'Pass') & (zone_df['team'] == home_team)])\n",
    "                    defenses = len(zone_df[(zone_df['state_match'] == state) & (zone_df['type'].isin(defensive_actions)) & (zone_df['team'] == away_team) & (zone_df['possession_team'] == home_team)])\n",
    "                    key = f'away_{\"lead\" if state == \"away_win\" else \"draw\" if state == \"draw\" else \"loose\"}_ppda'\n",
    "                    ppda_stats[key] = round(passes / defenses, 2) if defenses > 0 else None\n",
    "\n",
    "            # === xG sums per game state and team ===\n",
    "            if all(col in df.columns for col in ['shot_statsbomb_xg', 'team', 'state_match']):\n",
    "                for i in range(len(df)):\n",
    "                    # Location of lines where xg are greater than 0, and associated status and team\n",
    "                    xg = df.loc[i, 'shot_statsbomb_xg']\n",
    "                    state = df.loc[i, 'state_match']\n",
    "                    team = df.loc[i, 'team']\n",
    "            \n",
    "                    if pd.isna(xg) or pd.isna(state) or state not in ['home_win', 'draw', 'away_win']:\n",
    "                        continue\n",
    "\n",
    "                    # Accumulation of xg in the associated state/team\n",
    "                    if team == home_team:\n",
    "                        key = f\"home_{'lead' if state == 'home_win' else 'draw' if state == 'draw' else 'loose'}_xg\"\n",
    "                    elif team == away_team:\n",
    "                        key = f\"away_{'lead' if state == 'away_win' else 'draw' if state == 'draw' else 'loose'}_xg\"\n",
    "                    else:\n",
    "                        continue\n",
    "            \n",
    "                    xg_stats[key] += xg\n",
    "                    \n",
    "                # Round xG values to 2 decimals\n",
    "                xg_stats = {k: round(v, 2) for k, v in xg_stats.items()}\n",
    "\n",
    "            # === Defensive action average height per game state and team ===\n",
    "            if all(col in df.columns for col in ['type', 'team', 'possession_team', 'location_x', 'state_match']):\n",
    "                for state in ['home_win', 'draw', 'away_win']:\n",
    "                    # Home team defensive actions\n",
    "                    home_zone = df[\n",
    "                        (df['type'].isin(defensive_actions)) &\n",
    "                        (df['team'] == home_team) &\n",
    "                        (df['possession_team'] == away_team) &\n",
    "                        (df['state_match'] == state)\n",
    "                    ]\n",
    "\n",
    "                    # Accumulation of defensive action in the associated state/team, and calculation of average height\n",
    "                    key = f'home_{\"lead\" if state == \"home_win\" else \"draw\" if state == \"draw\" else \"loose\"}_height_def_act'\n",
    "                    if not home_zone['location_x'].empty:\n",
    "                        height_def_stats[key] = round(home_zone['location_x'].mean(), 2)\n",
    "            \n",
    "                    # Away team defensive actions\n",
    "                    away_zone = df[\n",
    "                        (df['type'].isin(defensive_actions)) &\n",
    "                        (df['team'] == away_team) &\n",
    "                        (df['possession_team'] == home_team) &\n",
    "                        (df['state_match'] == state)\n",
    "                    ]\n",
    "                    # Acumulation of defensive action in the associated state/team, and calculation of average height\n",
    "                    key = f'away_{\"lead\" if state == \"away_win\" else \"draw\" if state == \"draw\" else \"loose\"}_height_def_act'\n",
    "                    if not away_zone['location_x'].empty:\n",
    "                        height_def_stats[key] = round(away_zone['location_x'].mean(), 2)\n",
    "\n",
    "            # === Foul Won count per game state and team ===\n",
    "            if all(col in df.columns for col in ['type', 'team', 'state_match']):\n",
    "                for state in ['home_win', 'draw', 'away_win']:\n",
    "                    # Foul Won by the home team\n",
    "                    home_count = df[\n",
    "                        (df['type'] == 'Foul Won') &\n",
    "                        (df['team'] == home_team) &\n",
    "                        (df['state_match'] == state)\n",
    "                    ].shape[0]\n",
    "\n",
    "                    # Accumulation of foul won  in the associated state/team, and calculation of average height\n",
    "                    key = f'home_{\"lead\" if state == \"home_win\" else \"draw\" if state == \"draw\" else \"loose\"}_foul_won'\n",
    "                    foul_won_stats[key] = home_count\n",
    "            \n",
    "                    # Foul Won by the away team\n",
    "                    away_count = df[\n",
    "                        (df['type'] == 'Foul Won') &\n",
    "                        (df['team'] == away_team) &\n",
    "                        (df['state_match'] == state)\n",
    "                    ].shape[0]\n",
    "\n",
    "                    # Accumulation of foul won  in the associated state/team, and calculation of average height\n",
    "                    key = f'away_{\"lead\" if state == \"away_win\" else \"draw\" if state == \"draw\" else \"loose\"}_foul_won'\n",
    "                    foul_won_stats[key] = away_count\n",
    "\n",
    "            # === Foul Committed count per game state and team ===\n",
    "            if all(col in df.columns for col in ['type', 'team', 'state_match']):\n",
    "                for state in ['home_win', 'draw', 'away_win']:\n",
    "                    # Fouls committed by the away team\n",
    "                    home_count = df[\n",
    "                        (df['type'] == 'Foul Committed') &\n",
    "                        (df['team'] == away_team) &\n",
    "                        (df['state_match'] == state)\n",
    "                    ].shape[0]\n",
    "                    \n",
    "                    # Accumulation of foul committed  in the associated state/team, and calculation of average height\n",
    "                    key = f'home_{\"lead\" if state == \"home_win\" else \"draw\" if state == \"draw\" else \"loose\"}_foul_com'\n",
    "                    foul_com_stats[key] = home_count\n",
    "            \n",
    "                    # Fouls committed by the home team\n",
    "                    away_count = df[\n",
    "                        (df['type'] == 'Foul Committed') &\n",
    "                        (df['team'] == home_team) &\n",
    "                        (df['state_match'] == state)\n",
    "                    ].shape[0]\n",
    "\n",
    "                    # Accumulation of foul committed  in the associated state/team, and calculation of average height\n",
    "                    key = f'away_{\"lead\" if state == \"away_win\" else \"draw\" if state == \"draw\" else \"loose\"}_foul_com'\n",
    "                    foul_com_stats[key] = away_count\n",
    "\n",
    "            # === Duel success proportion per game state and team ===\n",
    "            if all(col in df.columns for col in ['type', 'team', 'state_match', 'duel_outcome']):\n",
    "                for state in ['home_win', 'draw', 'away_win']:\n",
    "                    # Duels in this state\n",
    "                    duels = df[\n",
    "                        (df['type'] == 'Duel') &\n",
    "                        (df['state_match'] == state)\n",
    "                    ]\n",
    "                    # A duel lost by one team is counted as won by the other (and vice versa).\n",
    "                    if duels.empty:\n",
    "                        for side in ['home', 'away']:\n",
    "                            label = (\n",
    "                                'lead' if state == f'{side}_win' else\n",
    "                                'loose' if state == f'{\"away\" if side == \"home\" else \"home\"}_win' else\n",
    "                                'draw'\n",
    "                            )\n",
    "                            duel_stats[f'{side}_{label}_duel_won'] = 0\n",
    "                        continue\n",
    "\n",
    "                    # Define the winning team for each duel\n",
    "                    winning_outcomes = ['Won', 'Success', 'Success In Play', 'Success Out']\n",
    "            \n",
    "                    # Counting the number of duels won by each team\n",
    "                    home_won = duels[(duels['team'] == home_team) & duels['duel_outcome'].isin(winning_outcomes)].shape[0]\n",
    "                    away_won = duels[(duels['team'] == away_team) & duels['duel_outcome'].isin(winning_outcomes)].shape[0]\n",
    "                    \n",
    "                    # Calculation of the proportion associated with each team/state\n",
    "                    total = home_won + away_won\n",
    "                    if total == 0:\n",
    "                        home_prop = away_prop = 0\n",
    "                    else:\n",
    "                        home_prop = round(100 * home_won / total, 2)\n",
    "                        away_prop = round(100 * away_won / total, 2)\n",
    "            \n",
    "                    if state == 'home_win':\n",
    "                        duel_stats['home_lead_duel_won'] = home_prop\n",
    "                        duel_stats['away_loose_duel_won'] = away_prop\n",
    "                    elif state == 'away_win':\n",
    "                        duel_stats['home_loose_duel_won'] = home_prop\n",
    "                        duel_stats['away_lead_duel_won'] = away_prop\n",
    "                    elif state == 'draw':\n",
    "                        duel_stats['home_draw_duel_won'] = home_prop\n",
    "                        duel_stats['away_draw_duel_won'] = away_prop\n",
    "\n",
    "            # === Play Pattern proportions per game state and team ===\n",
    "            if all(col in df.columns for col in ['play_pattern', 'team', 'state_match', 'duration']):\n",
    "                play_patterns = ['Regular Play', 'From Corner', 'From Free Kick', 'From Throw In', 'Other', 'From Counter', 'From Goal Kick', 'From Keeper', 'From Kick Off']\n",
    "                for state in ['home_win', 'draw', 'away_win']:\n",
    "                    for pattern in play_patterns:\n",
    "                        # Filter events based on the current game state and play pattern\n",
    "                        home_events = df[(df['state_match'] == state) & (df['team'] == home_team) & (df['play_pattern'] == pattern)]\n",
    "                        away_events = df[(df['state_match'] == state) & (df['team'] == away_team) & (df['play_pattern'] == pattern)]\n",
    "            \n",
    "                        # Calculate the cumulative duration of events for each team and phase of play\n",
    "                        home_duration = home_events['duration'].sum()\n",
    "                        away_duration = away_events['duration'].sum()\n",
    "            \n",
    "                        # Calculate total duration for the respective game state (home and away teams)\n",
    "                        total_home_duration = df[(df['state_match'] == state) & (df['team'] == home_team)]['duration'].sum()\n",
    "                        total_away_duration = df[(df['state_match'] == state) & (df['team'] == away_team)]['duration'].sum()\n",
    "            \n",
    "                        # Calculate proportions as percentage of total duration\n",
    "                        home_proportion = round(100 * home_duration / total_home_duration, 2) if total_home_duration > 0 else 0\n",
    "                        away_proportion = round(100 * away_duration / total_away_duration, 2) if total_away_duration > 0 else 0\n",
    "\n",
    "                        # Define the right column prefixes according to match status\n",
    "                        if state == 'home_win':\n",
    "                            home_prefix = 'home_lead'\n",
    "                            away_prefix = 'away_loose'\n",
    "                        elif state == 'away_win':\n",
    "                            home_prefix = 'home_loose'\n",
    "                            away_prefix = 'away_lead'\n",
    "                        else:  # draw\n",
    "                            home_prefix = 'home_draw'\n",
    "                            away_prefix = 'away_draw'\n",
    "            \n",
    "                        # Assign to the respective columns\n",
    "                        play_pattern_stats[f'{home_prefix}_{pattern.lower().replace(\" \", \"_\")}'] = home_proportion\n",
    "                        play_pattern_stats[f'{away_prefix}_{pattern.lower().replace(\" \", \"_\")}'] = away_proportion\n",
    "\n",
    "        except Exception as e:\n",
    "            print(f\"Error with file {event_file}: {e}\")\n",
    "\n",
    "    # Final match row\n",
    "    match_row = {\n",
    "        'match_id': match_id,\n",
    "        'home_team': home_team,\n",
    "        'away_team': away_team,\n",
    "        'home_score': row['home_score'],\n",
    "        'away_score': row['away_score'],\n",
    "        'date': row['match_date'],\n",
    "        'home_lead_prop': home_lead_prop,\n",
    "        'draw_prop': draw_prop,\n",
    "        'away_lead_prop': away_lead_prop\n",
    "    }\n",
    "    match_row.update(goal_stats)\n",
    "    match_row.update(poss_stats)\n",
    "    match_row.update(ppda_stats)\n",
    "    match_row.update(xg_stats)\n",
    "    match_row.update(height_def_stats)\n",
    "    match_row.update(foul_won_stats)\n",
    "    match_row.update(foul_com_stats)\n",
    "    match_row.update(duel_stats)\n",
    "    match_row.update(play_pattern_stats)\n",
    "    match_rows.append(match_row)\n",
    "\n",
    "# Ensure 'table' folder exists\n",
    "os.makedirs('table', exist_ok=True)\n",
    "\n",
    "# Output CSV file\n",
    "output_file = 'table/table_matches.csv'\n",
    "with open(output_file, 'w', newline='', encoding='utf-8') as csvfile:\n",
    "    fieldnames = [\n",
    "        'match_id', 'home_team', 'away_team', 'home_score', 'away_score', 'date',\n",
    "        'home_lead_prop', 'draw_prop', 'away_lead_prop'\n",
    "    ] + goal_state_columns + xg_state_columns + poss_state_columns + duel_cols + ppda_columns + height_def_cols + foul_won_cols + foul_com_cols + play_pattern_columns\n",
    "\n",
    "    writer = csv.DictWriter(csvfile, fieldnames=fieldnames)\n",
    "    writer.writeheader()\n",
    "    for match in match_rows:\n",
    "        writer.writerow(match)\n"
   ]
  },
  {
   "cell_type": "markdown",
   "id": "5617f6e5-45a3-4ad2-bba5-183d70b0e361",
   "metadata": {},
   "source": [
    "## <span style=\"color:orange\">**Task 3.1 :**</span> Aggregated results for each team"
   ]
  },
  {
   "cell_type": "markdown",
   "id": "0dd807c3-119b-46bd-8817-b3015e8470fc",
   "metadata": {},
   "source": [
    "Next, we will aggregate each statistic for each team."
   ]
  },
  {
   "cell_type": "code",
   "execution_count": 76,
   "id": "12ebfdd0-734d-4dc8-9fee-28d763876368",
   "metadata": {},
   "outputs": [],
   "source": [
    "# Importing libraries\n",
    "import pandas as pd\n",
    "import os\n",
    "\n",
    "# Load the match-level statistics file\n",
    "df = pd.read_csv('table/table_matches.csv')\n",
    "\n",
    "# === Create team performance summary (table_team) ===\n",
    "\n",
    "# Retrieves home and away team information for all matches in the file\n",
    "home = pd.DataFrame({\n",
    "    'team_name': df['home_team'],\n",
    "    'lead_prop': df['home_lead_prop'],\n",
    "    'draw_prop': df['draw_prop'],\n",
    "    'loose_prop': df['away_lead_prop'],\n",
    "    'lead_goal_raw': df['home_lead_goal'],\n",
    "    'draw_goal_raw': df['home_draw_goal'],\n",
    "    'loose_goal_raw': df['home_loose_goal'],\n",
    "    'lead_xg_raw': df['home_lead_xg'],\n",
    "    'draw_xg_raw': df['home_draw_xg'],\n",
    "    'loose_xg_raw': df['home_loose_xg'],\n",
    "    'lead_duel_won_raw': df['home_lead_duel_won'],\n",
    "    'draw_duel_won_raw': df['home_draw_duel_won'],\n",
    "    'loose_duel_won_raw': df['home_loose_duel_won'],\n",
    "    'lead_poss_raw': df['home_lead_poss'],\n",
    "    'draw_poss_raw': df['home_draw_poss'],\n",
    "    'loose_poss_raw': df['home_loose_poss'],\n",
    "    'lead_ppda_raw': df['home_lead_ppda'],\n",
    "    'draw_ppda_raw': df['home_draw_ppda'],\n",
    "    'loose_ppda_raw': df['home_loose_ppda'],\n",
    "    'lead_height_def_act_raw': df['home_lead_height_def_act'],\n",
    "    'draw_height_def_act_raw': df['home_draw_height_def_act'],\n",
    "    'loose_height_def_act_raw': df['home_loose_height_def_act'],\n",
    "    'lead_foul_won_raw': df['home_lead_foul_won'],\n",
    "    'draw_foul_won_raw': df['home_draw_foul_won'],\n",
    "    'loose_foul_won_raw': df['home_loose_foul_won'],\n",
    "    'lead_foul_com_raw': df['home_lead_foul_com'],\n",
    "    'draw_foul_com_raw': df['home_draw_foul_com'],\n",
    "    'loose_foul_com_raw': df['home_loose_foul_com'],\n",
    "\n",
    "    'lead_regular_play_raw': df['home_lead_regular_play'],\n",
    "    'lead_from_corner_raw': df['home_lead_from_corner'],\n",
    "    'lead_from_free_kick_raw': df['home_lead_from_free_kick'],\n",
    "    'lead_from_throw_in_raw': df['home_lead_from_throw_in'],\n",
    "    'lead_other_raw': df['home_lead_other'],\n",
    "    'lead_from_counter_raw': df['home_lead_from_counter'],\n",
    "    'lead_from_goal_kick_raw': df['home_lead_from_goal_kick'],\n",
    "    'lead_from_keeper_raw': df['home_lead_from_keeper'],\n",
    "    'lead_from_kick_off_raw': df['home_lead_from_kick_off'],\n",
    "\n",
    "    'draw_regular_play_raw': df['home_draw_regular_play'],\n",
    "    'draw_from_corner_raw': df['home_draw_from_corner'],\n",
    "    'draw_from_free_kick_raw': df['home_draw_from_free_kick'],\n",
    "    'draw_from_throw_in_raw': df['home_draw_from_throw_in'],\n",
    "    'draw_other_raw': df['home_draw_other'],\n",
    "    'draw_from_counter_raw': df['home_draw_from_counter'],\n",
    "    'draw_from_goal_kick_raw': df['home_draw_from_goal_kick'],\n",
    "    'draw_from_keeper_raw': df['home_draw_from_keeper'],\n",
    "    'draw_from_kick_off_raw': df['home_draw_from_kick_off'],\n",
    "\n",
    "    'loose_regular_play_raw': df['home_loose_regular_play'],\n",
    "    'loose_from_corner_raw': df['home_loose_from_corner'],\n",
    "    'loose_from_free_kick_raw': df['home_loose_from_free_kick'],\n",
    "    'loose_from_throw_in_raw': df['home_loose_from_throw_in'],\n",
    "    'loose_other_raw': df['home_loose_other'],\n",
    "    'loose_from_counter_raw': df['home_loose_from_counter'],\n",
    "    'loose_from_goal_kick_raw': df['home_loose_from_goal_kick'],\n",
    "    'loose_from_keeper_raw': df['home_loose_from_keeper'],\n",
    "    'loose_from_kick_off_raw': df['home_loose_from_kick_off'],\n",
    "})\n",
    "\n",
    "away = pd.DataFrame({\n",
    "    'team_name': df['away_team'],\n",
    "    'lead_prop': df['away_lead_prop'],\n",
    "    'draw_prop': df['draw_prop'],\n",
    "    'loose_prop': df['home_lead_prop'],\n",
    "    'lead_goal_raw': df['away_lead_goal'],\n",
    "    'draw_goal_raw': df['away_draw_goal'],\n",
    "    'loose_goal_raw': df['away_loose_goal'],\n",
    "    'lead_xg_raw': df['away_lead_xg'],\n",
    "    'draw_xg_raw': df['away_draw_xg'],\n",
    "    'loose_xg_raw': df['away_loose_xg'],\n",
    "    'lead_duel_won_raw': df['away_lead_duel_won'],\n",
    "    'draw_duel_won_raw': df['away_draw_duel_won'],\n",
    "    'loose_duel_won_raw': df['away_loose_duel_won'],\n",
    "    'lead_poss_raw': df['away_lead_poss'],\n",
    "    'draw_poss_raw': df['away_draw_poss'],\n",
    "    'loose_poss_raw': df['away_loose_poss'],\n",
    "    'lead_ppda_raw': df['away_lead_ppda'],\n",
    "    'draw_ppda_raw': df['away_draw_ppda'],\n",
    "    'loose_ppda_raw': df['away_loose_ppda'],\n",
    "    'lead_height_def_act_raw': df['away_lead_height_def_act'],\n",
    "    'draw_height_def_act_raw': df['away_draw_height_def_act'],\n",
    "    'loose_height_def_act_raw': df['away_loose_height_def_act'],\n",
    "    'lead_foul_won_raw': df['away_lead_foul_won'],\n",
    "    'draw_foul_won_raw': df['away_draw_foul_won'],\n",
    "    'loose_foul_won_raw': df['away_loose_foul_won'],\n",
    "    'lead_foul_com_raw': df['away_lead_foul_com'],\n",
    "    'draw_foul_com_raw': df['away_draw_foul_com'],\n",
    "    'loose_foul_com_raw': df['away_loose_foul_com'],\n",
    "\n",
    "    'lead_regular_play_raw': df['away_lead_regular_play'],\n",
    "    'lead_from_corner_raw': df['away_lead_from_corner'],\n",
    "    'lead_from_free_kick_raw': df['away_lead_from_free_kick'],\n",
    "    'lead_from_throw_in_raw': df['away_lead_from_throw_in'],\n",
    "    'lead_other_raw': df['away_lead_other'],\n",
    "    'lead_from_counter_raw': df['away_lead_from_counter'],\n",
    "    'lead_from_goal_kick_raw': df['away_lead_from_goal_kick'],\n",
    "    'lead_from_keeper_raw': df['away_lead_from_keeper'],\n",
    "    'lead_from_kick_off_raw': df['away_lead_from_kick_off'],\n",
    "\n",
    "    'draw_regular_play_raw': df['away_draw_regular_play'],\n",
    "    'draw_from_corner_raw': df['away_draw_from_corner'],\n",
    "    'draw_from_free_kick_raw': df['away_draw_from_free_kick'],\n",
    "    'draw_from_throw_in_raw': df['away_draw_from_throw_in'],\n",
    "    'draw_other_raw': df['away_draw_other'],\n",
    "    'draw_from_counter_raw': df['away_draw_from_counter'],\n",
    "    'draw_from_goal_kick_raw': df['away_draw_from_goal_kick'],\n",
    "    'draw_from_keeper_raw': df['away_draw_from_keeper'],\n",
    "    'draw_from_kick_off_raw': df['away_draw_from_kick_off'],\n",
    "\n",
    "    'loose_regular_play_raw': df['away_loose_regular_play'],\n",
    "    'loose_from_corner_raw': df['away_loose_from_corner'],\n",
    "    'loose_from_free_kick_raw': df['away_loose_from_free_kick'],\n",
    "    'loose_from_throw_in_raw': df['away_loose_from_throw_in'],\n",
    "    'loose_other_raw': df['away_loose_other'],\n",
    "    'loose_from_counter_raw': df['away_loose_from_counter'],\n",
    "    'loose_from_goal_kick_raw': df['away_loose_from_goal_kick'],\n",
    "    'loose_from_keeper_raw': df['away_loose_from_keeper'],\n",
    "    'loose_from_kick_off_raw': df['away_loose_from_kick_off'],\n",
    "\n",
    "})\n",
    "\n",
    "# We concatenate this information, and group it by team\n",
    "team_df = pd.concat([home, away], ignore_index=True)\n",
    "team_summary = team_df.groupby('team_name', as_index=False).mean()\n",
    "\n",
    "\n",
    "# === Function for weighted calculation ===\n",
    "def compute_weighted_stat(team_df, stat_name):\n",
    "    \"\"\"\n",
    "    Calculates the weighted average of a statistic by match status (lead/draw/loose),\n",
    "    \"\"\"\n",
    "    # Data retrieval for each state\n",
    "    for state in ['lead', 'draw', 'loose']:\n",
    "        raw_col = f\"{state}_{stat_name}_raw\"\n",
    "        prop_col = f\"{state}_prop\"\n",
    "        weighted_col = f\"{state}_{stat_name}_weighted\"\n",
    "        time_weight_col = f\"{state}_time_weight\"\n",
    "\n",
    "        # Multiplies the value obtained in this state on the match with its proportion of time spent in the match\n",
    "        team_df[weighted_col] = team_df[raw_col] * team_df[prop_col]\n",
    "        \n",
    "        # Corresponds to the proportion of time spent in this state\n",
    "        team_df[time_weight_col] = team_df[prop_col]\n",
    "\n",
    "    # Aggregation\n",
    "    agg_dict = {\n",
    "        f'lead_{stat_name}_weighted': 'sum',\n",
    "        f'lead_time_weight': 'sum',\n",
    "        f'draw_{stat_name}_weighted': 'sum',\n",
    "        f'draw_time_weight': 'sum',\n",
    "        f'loose_{stat_name}_weighted': 'sum',\n",
    "        f'loose_time_weight': 'sum',\n",
    "    }\n",
    "    stat_summary = team_df.groupby('team_name').agg(agg_dict).reset_index()\n",
    "\n",
    "    # Weighted average\n",
    "    for state in ['lead', 'draw', 'loose']:\n",
    "        stat_summary[f'{state}_{stat_name}'] = stat_summary.apply(\n",
    "            lambda row: round(row[f'{state}_{stat_name}_weighted'] / row[f'{state}_time_weight'], 2)\n",
    "            if row[f'{state}_time_weight'] > 0 else 0,\n",
    "            axis=1\n",
    "        )\n",
    "\n",
    "    # Returns only useful final columns\n",
    "    columns_to_keep = ['team_name'] + [f'{state}_{stat_name}' for state in ['lead', 'draw', 'loose']]\n",
    "    return stat_summary[columns_to_keep]\n",
    "\n",
    "\n",
    "# === Weighted calculations and merging in team_summary for each statistics category ===\n",
    "for stat in ['goal', 'xg', 'poss', 'duel_won', 'ppda', 'height_def_act','foul_won','foul_com', 'regular_play', 'from_free_kick', 'from_throw_in', 'other', 'from_counter', 'from_goal_kick', 'from_keeper', 'from_kick_off', 'from_corner' ]:\n",
    "    # Intermediate columns to be deleted\n",
    "    temp_cols = [\n",
    "        f'{state}_{stat}_raw' for state in ['lead', 'draw', 'loose']\n",
    "    ]\n",
    "    # Merge results and delete temporary columns\n",
    "    summary = compute_weighted_stat(team_df, stat)\n",
    "    team_summary = (\n",
    "        team_summary\n",
    "        .drop(columns=temp_cols, errors='ignore')\n",
    "        .merge(summary, on='team_name', how='left')\n",
    "    )\n",
    "\n",
    "\n",
    "# Round proportions\n",
    "team_summary[['lead_prop', 'draw_prop', 'loose_prop']] = team_summary[['lead_prop', 'draw_prop', 'loose_prop']].round(2)\n",
    "\n",
    "\n",
    "# Save the CSV file into the 'table' folder\n",
    "team_summary.to_csv('table/table_team.csv', index=False)\n"
   ]
  },
  {
   "cell_type": "markdown",
   "id": "761fb725-1a24-4964-be2d-31988976b9bb",
   "metadata": {},
   "source": [
    "## <span style=\"color:orange\">**Task 3.2 :**</span> Aggregated results when an opponent faces the target team"
   ]
  },
  {
   "cell_type": "markdown",
   "id": "13127030-fc16-41bf-a0d7-6c0e3308c08a",
   "metadata": {},
   "source": [
    "Next, we'll take a look at these same statistics, but on the target team's opponent."
   ]
  },
  {
   "cell_type": "code",
   "execution_count": 77,
   "id": "1e3d2a45",
   "metadata": {},
   "outputs": [],
   "source": [
    "# Importing libraries\n",
    "import pandas as pd\n",
    "\n",
    "# Load the match-level statistics file\n",
    "df = pd.read_csv('table/table_matches.csv')\n",
    "\n",
    "# === Create opponent performance summary (table_against_team) ===\n",
    "\n",
    "# Retrieves home and away team information for all matches in the file\n",
    "\n",
    "home_against = pd.DataFrame({\n",
    "    'team_name': df['away_team'],  # the home team's opponent\n",
    "    'lead_prop': df['home_lead_prop'],\n",
    "    'draw_prop': df['draw_prop'],\n",
    "    'loose_prop': df['away_lead_prop'],\n",
    "    'lead_goal_raw': df['home_lead_goal'],\n",
    "    'draw_goal_raw': df['home_draw_goal'],\n",
    "    'loose_goal_raw': df['home_loose_goal'],\n",
    "    'lead_xg_raw': df['home_lead_xg'],\n",
    "    'draw_xg_raw': df['home_draw_xg'],\n",
    "    'loose_xg_raw': df['home_loose_xg'],\n",
    "    'lead_duel_won_raw': df['home_lead_duel_won'],\n",
    "    'draw_duel_won_raw': df['home_draw_duel_won'],\n",
    "    'loose_duel_won_raw': df['home_loose_duel_won'],\n",
    "    'lead_poss_raw': df['home_lead_poss'],\n",
    "    'draw_poss_raw': df['home_draw_poss'],\n",
    "    'loose_poss_raw': df['home_loose_poss'],\n",
    "    'lead_ppda_raw': df['home_lead_ppda'],\n",
    "    'draw_ppda_raw': df['home_draw_ppda'],\n",
    "    'loose_ppda_raw': df['home_loose_ppda'],\n",
    "    'lead_height_def_act_raw': df['home_lead_height_def_act'],\n",
    "    'draw_height_def_act_raw': df['home_draw_height_def_act'],\n",
    "    'loose_height_def_act_raw': df['home_loose_height_def_act'],\n",
    "    'lead_foul_won_raw': df['home_lead_foul_won'],\n",
    "    'draw_foul_won_raw': df['home_draw_foul_won'],\n",
    "    'loose_foul_won_raw': df['home_loose_foul_won'],\n",
    "    'lead_foul_com_raw': df['home_lead_foul_com'],\n",
    "    'draw_foul_com_raw': df['home_draw_foul_com'],\n",
    "    'loose_foul_com_raw': df['home_loose_foul_com'],\n",
    "\n",
    "    'lead_regular_play_raw': df['home_lead_regular_play'],\n",
    "    'lead_from_corner_raw': df['home_lead_from_corner'],\n",
    "    'lead_from_free_kick_raw': df['home_lead_from_free_kick'],\n",
    "    'lead_from_throw_in_raw': df['home_lead_from_throw_in'],\n",
    "    'lead_other_raw': df['home_lead_other'],\n",
    "    'lead_from_counter_raw': df['home_lead_from_counter'],\n",
    "    'lead_from_goal_kick_raw': df['home_lead_from_goal_kick'],\n",
    "    'lead_from_keeper_raw': df['home_lead_from_keeper'],\n",
    "    'lead_from_kick_off_raw': df['home_lead_from_kick_off'],\n",
    "\n",
    "    'draw_regular_play_raw': df['home_draw_regular_play'],\n",
    "    'draw_from_corner_raw': df['home_draw_from_corner'],\n",
    "    'draw_from_free_kick_raw': df['home_draw_from_free_kick'],\n",
    "    'draw_from_throw_in_raw': df['home_draw_from_throw_in'],\n",
    "    'draw_other_raw': df['home_draw_other'],\n",
    "    'draw_from_counter_raw': df['home_draw_from_counter'],\n",
    "    'draw_from_goal_kick_raw': df['home_draw_from_goal_kick'],\n",
    "    'draw_from_keeper_raw': df['home_draw_from_keeper'],\n",
    "    'draw_from_kick_off_raw': df['home_draw_from_kick_off'],\n",
    "\n",
    "    'loose_regular_play_raw': df['home_loose_regular_play'],\n",
    "    'loose_from_corner_raw': df['home_loose_from_corner'],\n",
    "    'loose_from_free_kick_raw': df['home_loose_from_free_kick'],\n",
    "    'loose_from_throw_in_raw': df['home_loose_from_throw_in'],\n",
    "    'loose_other_raw': df['home_loose_other'],\n",
    "    'loose_from_counter_raw': df['home_loose_from_counter'],\n",
    "    'loose_from_goal_kick_raw': df['home_loose_from_goal_kick'],\n",
    "    'loose_from_keeper_raw': df['home_loose_from_keeper'],\n",
    "    'loose_from_kick_off_raw': df['home_loose_from_kick_off'],\n",
    "})\n",
    "\n",
    "\n",
    "away_against = pd.DataFrame({\n",
    "    'team_name': df['home_team'],  # the team's away opponent\n",
    "    'lead_prop': df['away_lead_prop'],\n",
    "    'draw_prop': df['draw_prop'],\n",
    "    'loose_prop': df['home_lead_prop'],\n",
    "    'lead_goal_raw': df['away_lead_goal'],\n",
    "    'draw_goal_raw': df['away_draw_goal'],\n",
    "    'loose_goal_raw': df['away_loose_goal'],\n",
    "    'lead_xg_raw': df['away_lead_xg'],\n",
    "    'draw_xg_raw': df['away_draw_xg'],\n",
    "    'loose_xg_raw': df['away_loose_xg'],\n",
    "    'lead_duel_won_raw': df['away_lead_duel_won'],\n",
    "    'draw_duel_won_raw': df['away_draw_duel_won'],\n",
    "    'loose_duel_won_raw': df['away_loose_duel_won'],\n",
    "    'lead_poss_raw': df['away_lead_poss'],\n",
    "    'draw_poss_raw': df['away_draw_poss'],\n",
    "    'loose_poss_raw': df['away_loose_poss'],\n",
    "    'lead_ppda_raw': df['away_lead_ppda'],\n",
    "    'draw_ppda_raw': df['away_draw_ppda'],\n",
    "    'loose_ppda_raw': df['away_loose_ppda'],\n",
    "    'lead_height_def_act_raw': df['away_lead_height_def_act'],\n",
    "    'draw_height_def_act_raw': df['away_draw_height_def_act'],\n",
    "    'loose_height_def_act_raw': df['away_loose_height_def_act'],\n",
    "    'lead_foul_won_raw': df['away_lead_foul_won'],\n",
    "    'draw_foul_won_raw': df['away_draw_foul_won'],\n",
    "    'loose_foul_won_raw': df['away_loose_foul_won'],\n",
    "    'lead_foul_com_raw': df['away_lead_foul_com'],\n",
    "    'draw_foul_com_raw': df['away_draw_foul_com'],\n",
    "    'loose_foul_com_raw': df['away_loose_foul_com'],\n",
    "\n",
    "    'lead_regular_play_raw': df['away_lead_regular_play'],\n",
    "    'lead_from_corner_raw': df['away_lead_from_corner'],\n",
    "    'lead_from_free_kick_raw': df['away_lead_from_free_kick'],\n",
    "    'lead_from_throw_in_raw': df['away_lead_from_throw_in'],\n",
    "    'lead_other_raw': df['away_lead_other'],\n",
    "    'lead_from_counter_raw': df['away_lead_from_counter'],\n",
    "    'lead_from_goal_kick_raw': df['away_lead_from_goal_kick'],\n",
    "    'lead_from_keeper_raw': df['away_lead_from_keeper'],\n",
    "    'lead_from_kick_off_raw': df['away_lead_from_kick_off'],\n",
    "\n",
    "    'draw_regular_play_raw': df['away_draw_regular_play'],\n",
    "    'draw_from_corner_raw': df['away_draw_from_corner'],\n",
    "    'draw_from_free_kick_raw': df['away_draw_from_free_kick'],\n",
    "    'draw_from_throw_in_raw': df['away_draw_from_throw_in'],\n",
    "    'draw_other_raw': df['away_draw_other'],\n",
    "    'draw_from_counter_raw': df['away_draw_from_counter'],\n",
    "    'draw_from_goal_kick_raw': df['away_draw_from_goal_kick'],\n",
    "    'draw_from_keeper_raw': df['away_draw_from_keeper'],\n",
    "    'draw_from_kick_off_raw': df['away_draw_from_kick_off'],\n",
    "\n",
    "    'loose_regular_play_raw': df['away_loose_regular_play'],\n",
    "    'loose_from_corner_raw': df['away_loose_from_corner'],\n",
    "    'loose_from_free_kick_raw': df['away_loose_from_free_kick'],\n",
    "    'loose_from_throw_in_raw': df['away_loose_from_throw_in'],\n",
    "    'loose_other_raw': df['away_loose_other'],\n",
    "    'loose_from_counter_raw': df['away_loose_from_counter'],\n",
    "    'loose_from_goal_kick_raw': df['away_loose_from_goal_kick'],\n",
    "    'loose_from_keeper_raw': df['away_loose_from_keeper'],\n",
    "    'loose_from_kick_off_raw': df['away_loose_from_kick_off'],\n",
    "})\n",
    "\n",
    "# We concatenate this information, and group it by team\n",
    "against_df = pd.concat([home_against, away_against], ignore_index=True)\n",
    "against_summary = against_df.groupby('team_name', as_index=False).mean()\n",
    "\n",
    "\n",
    "# === Function for weighted calculation ===\n",
    "def compute_weighted_stat(against_df, stat_name):\n",
    "    \"\"\"\n",
    "    Calculates the weighted average of a statistic by match status (lead/draw/loose),\n",
    "    \"\"\"\n",
    "    # Data retrieval for each state\n",
    "    for state in ['lead', 'draw', 'loose']:\n",
    "        raw_col = f\"{state}_{stat_name}_raw\"\n",
    "        prop_col = f\"{state}_prop\"\n",
    "        weighted_col = f\"{state}_{stat_name}_weighted\"\n",
    "        time_weight_col = f\"{state}_time_weight\"\n",
    "\n",
    "        # Multiplies the value obtained in this state on the match with its proportion of time spent in the match\n",
    "        against_df[weighted_col] = against_df[raw_col] * against_df[prop_col]\n",
    "\n",
    "        # Corresponds to the proportion of time spent in this state\n",
    "        against_df[time_weight_col] = against_df[prop_col]\n",
    "\n",
    "    # Aggregation\n",
    "    agg_dict = {\n",
    "        f'lead_{stat_name}_weighted': 'sum',\n",
    "        f'lead_time_weight': 'sum',\n",
    "        f'draw_{stat_name}_weighted': 'sum',\n",
    "        f'draw_time_weight': 'sum',\n",
    "        f'loose_{stat_name}_weighted': 'sum',\n",
    "        f'loose_time_weight': 'sum',\n",
    "    }\n",
    "    stat_summary = against_df.groupby('team_name').agg(agg_dict).reset_index()\n",
    "\n",
    "    # Weighted average\n",
    "    for state in ['lead', 'draw', 'loose']:\n",
    "        stat_summary[f'{state}_{stat_name}'] = stat_summary.apply(\n",
    "            lambda row: round(row[f'{state}_{stat_name}_weighted'] / row[f'{state}_time_weight'], 2)\n",
    "            if row[f'{state}_time_weight'] > 0 else 0,\n",
    "            axis=1\n",
    "        )\n",
    "\n",
    "\n",
    "    # Returns only useful final columns\n",
    "    columns_to_keep = ['team_name'] + [f'{state}_{stat_name}' for state in ['lead', 'draw', 'loose']]\n",
    "    return stat_summary[columns_to_keep]\n",
    "\n",
    "\n",
    "# === Weighted calculations and merging in against_summary for each statistics category ===\n",
    "for stat in ['goal', 'xg', 'poss', 'duel_won', 'ppda', 'height_def_act','foul_won','foul_com', 'regular_play', 'from_free_kick', 'from_throw_in', 'other', 'from_counter', 'from_goal_kick', 'from_keeper', 'from_kick_off', 'from_corner' ]:\n",
    "    # Intermediate columns to be deleted\n",
    "    temp_cols = [\n",
    "        f'{state}_{stat}_raw' for state in ['lead', 'draw', 'loose']\n",
    "    ]\n",
    "    # Merge results and delete temporary columns\n",
    "    summary = compute_weighted_stat(against_df, stat)\n",
    "    against_summary = (\n",
    "        against_summary\n",
    "        .drop(columns=temp_cols, errors='ignore')\n",
    "        .merge(summary, on='team_name', how='left')\n",
    "    )\n",
    "\n",
    "\n",
    "against_summary[['lead_prop', 'draw_prop', 'loose_prop']] = against_summary[['lead_prop', 'draw_prop', 'loose_prop']].round(2)\n",
    "\n",
    "# Save to table_against_team.csv\n",
    "against_summary.to_csv('table/table_against_team.csv', index=False)\n"
   ]
  },
  {
   "cell_type": "markdown",
   "id": "875d5a23-0a14-4a18-a8ba-57d2dba9df29",
   "metadata": {},
   "source": [
    "## <span style=\"color:orange\">**Task 4 :**</span> Team season visualization"
   ]
  },
  {
   "cell_type": "markdown",
   "id": "e612dc4e-9c45-4db9-bf09-fe052cd6969a",
   "metadata": {},
   "source": [
    "Next, we can view the statistics of each Ligue 1 15/16 team according to whether they are leading, drawing or losing, and from the point of view of their team or as an opponent. We'll take the Rennes team as an example."
   ]
  },
  {
   "cell_type": "code",
   "execution_count": 79,
   "id": "58641107-7530-4f74-9580-75d39d7bb1e5",
   "metadata": {},
   "outputs": [
    {
     "name": "stdout",
     "output_type": "stream",
     "text": [
      "\n",
      "🔍 Ligue 1 15/16 season teams:\n",
      "1. AS Monaco\n",
      "2. Angers\n",
      "3. Bastia\n",
      "4. Bordeaux\n",
      "5. Caen\n",
      "6. Gazélec Ajaccio\n",
      "7. Guingamp\n",
      "8. Lille\n",
      "9. Lorient\n",
      "10. Lyon\n",
      "11. Marseille\n",
      "12. Montpellier\n",
      "13. Nantes\n",
      "14. OGC Nice\n",
      "15. Paris Saint-Germain\n",
      "16. Rennes\n",
      "17. Saint-Étienne\n",
      "18. Stade de Reims\n",
      "19. Toulouse\n",
      "20. Troyes\n"
     ]
    },
    {
     "name": "stdin",
     "output_type": "stream",
     "text": [
      "\n",
      "👉 Enter the number of the team you want to analyze:  16\n",
      "\n",
      "What would you like to do?\n",
      "1. Show team dashboard only\n",
      "2. Show opponent dashboard only\n",
      "3. Show both dashboards\n",
      "4. Save full dashboards as PDF\n",
      "5. Choose another team\n",
      "6. Exit\n",
      "👉 Enter your choice (1-6):  3\n"
     ]
    },
    {
     "data": {
      "application/vnd.plotly.v1+json": {
       "config": {
        "plotlyServerURL": "https://plot.ly"
       },
       "data": [
        {
         "domain": {
          "x": [
           0.374,
           0.626
          ],
          "y": [
           0,
           1
          ]
         },
         "hole": 0.45,
         "hovertemplate": "%{label}<br> %{value:.1f}%<extra></extra>",
         "labels": [
          "Leading",
          "Drawing",
          "Being Led"
         ],
         "marker": {
          "colors": [
           "#4CAF50",
           "#9E9E9E",
           "#F44336"
          ],
          "line": {
           "color": "white",
           "width": 2
          }
         },
         "showlegend": true,
         "textinfo": "label+percent",
         "type": "pie",
         "values": [
          18.08,
          54.13,
          27.79
         ]
        },
        {
         "fill": "toself",
         "hoverinfo": "skip",
         "line": {
          "color": "#4CAF50"
         },
         "mode": "lines",
         "name": "Lead",
         "r": [
          0.685344827586207,
          0.38787878787878793,
          0.6365387464809602,
          0.6873194221508828,
          0.7970905442688739,
          0.745367822417905,
          0.6533834586466165,
          0.6410803127221038
         ],
         "showlegend": false,
         "subplot": "polar",
         "theta": [
          "Goal",
          "Xg",
          "Possession",
          "Duel won",
          "PPDA",
          "Height def act",
          "Foul won",
          "Foul committed"
         ],
         "type": "scatterpolar"
        },
        {
         "customdata": [
          [
           1.59
          ],
          [
           0.64
          ],
          [
           42.96
          ],
          [
           42.82
          ],
          [
           31.78
          ],
          [
           40.63
          ],
          [
           8.69
          ],
          [
           9.02
          ]
         ],
         "hovertemplate": "%{theta}<br> %{customdata[0]:.2f}<extra></extra>",
         "marker": {
          "color": "#4CAF50",
          "size": 6
         },
         "mode": "markers",
         "name": "",
         "r": [
          0.685344827586207,
          0.38787878787878793,
          0.6365387464809602,
          0.6873194221508828,
          0.7970905442688739,
          0.745367822417905,
          0.6533834586466165,
          0.6410803127221038
         ],
         "showlegend": false,
         "subplot": "polar",
         "theta": [
          "Goal",
          "Xg",
          "Possession",
          "Duel won",
          "PPDA",
          "Height def act",
          "Foul won",
          "Foul committed"
         ],
         "type": "scatterpolar"
        },
        {
         "fill": "toself",
         "hoverinfo": "skip",
         "line": {
          "color": "#9E9E9E"
         },
         "mode": "lines",
         "name": "Draw",
         "r": [
          0.24568965517241378,
          0.4848484848484849,
          0.7515187435175582,
          0.7365971107544141,
          0.5701028342111863,
          0.8391120895248579,
          0.6834586466165413,
          0.7135749822316986
         ],
         "showlegend": false,
         "subplot": "polar",
         "theta": [
          "Goal",
          "Xg",
          "Possession",
          "Duel won",
          "PPDA",
          "Height def act",
          "Foul won",
          "Foul committed"
         ],
         "type": "scatterpolar"
        },
        {
         "customdata": [
          [
           0.57
          ],
          [
           0.8
          ],
          [
           50.72
          ],
          [
           45.89
          ],
          [
           22.73
          ],
          [
           45.74
          ],
          [
           9.09
          ],
          [
           10.04
          ]
         ],
         "hovertemplate": "%{theta}<br> %{customdata[0]:.2f}<extra></extra>",
         "marker": {
          "color": "#9E9E9E",
          "size": 6
         },
         "mode": "markers",
         "name": "",
         "r": [
          0.24568965517241378,
          0.4848484848484849,
          0.7515187435175582,
          0.7365971107544141,
          0.5701028342111863,
          0.8391120895248579,
          0.6834586466165413,
          0.7135749822316986
         ],
         "showlegend": false,
         "subplot": "polar",
         "theta": [
          "Goal",
          "Xg",
          "Possession",
          "Duel won",
          "PPDA",
          "Height def act",
          "Foul won",
          "Foul committed"
         ],
         "type": "scatterpolar"
        },
        {
         "fill": "toself",
         "hoverinfo": "skip",
         "line": {
          "color": "#F44336"
         },
         "mode": "lines",
         "name": "Loose",
         "r": [
          0.3017241379310345,
          0.393939393939394,
          0.787968587938954,
          0.7479935794542537,
          0.3782292450464008,
          0.8897450009172629,
          0.47142857142857136,
          0.4761904761904762
         ],
         "showlegend": false,
         "subplot": "polar",
         "theta": [
          "Goal",
          "Xg",
          "Possession",
          "Duel won",
          "PPDA",
          "Height def act",
          "Foul won",
          "Foul committed"
         ],
         "type": "scatterpolar"
        },
        {
         "customdata": [
          [
           0.7
          ],
          [
           0.65
          ],
          [
           53.18
          ],
          [
           46.6
          ],
          [
           15.08
          ],
          [
           48.5
          ],
          [
           6.27
          ],
          [
           6.7
          ]
         ],
         "hovertemplate": "%{theta}<br> %{customdata[0]:.2f}<extra></extra>",
         "marker": {
          "color": "#F44336",
          "size": 6
         },
         "mode": "markers",
         "name": "",
         "r": [
          0.3017241379310345,
          0.393939393939394,
          0.787968587938954,
          0.7479935794542537,
          0.3782292450464008,
          0.8897450009172629,
          0.47142857142857136,
          0.4761904761904762
         ],
         "showlegend": false,
         "subplot": "polar",
         "theta": [
          "Goal",
          "Xg",
          "Possession",
          "Duel won",
          "PPDA",
          "Height def act",
          "Foul won",
          "Foul committed"
         ],
         "type": "scatterpolar"
        },
        {
         "fill": "toself",
         "hoverinfo": "skip",
         "line": {
          "color": "#4CAF50"
         },
         "mode": "lines",
         "name": "",
         "r": [
          0.9905805459438677,
          0.5793650793650793,
          0.7945967421533571,
          0.11290322580645162,
          0.4834437086092715,
          0.6463909164639091,
          0.41948051948051945,
          0.295169946332737,
          0.5782828282828283
         ],
         "showlegend": false,
         "subplot": "polar2",
         "theta": [
          "Regular Play",
          "From Free Kick",
          "From Throw In",
          "Other",
          "From Counter",
          "From Goal Kick",
          "From Keeper",
          "From Kick Off",
          "From Corner"
         ],
         "type": "scatterpolar"
        },
        {
         "customdata": [
          [
           51.53
          ],
          [
           11.68
          ],
          [
           20
          ],
          [
           0.14
          ],
          [
           1.46
          ],
          [
           7.97
          ],
          [
           3.23
          ],
          [
           1.65
          ],
          [
           2.29
          ]
         ],
         "hovertemplate": "%{theta}<br> %{customdata[0]:.2f}<extra></extra>",
         "marker": {
          "color": "#4CAF50",
          "size": 6
         },
         "mode": "markers",
         "name": "",
         "r": [
          0.9905805459438677,
          0.5793650793650793,
          0.7945967421533571,
          0.11290322580645162,
          0.4834437086092715,
          0.6463909164639091,
          0.41948051948051945,
          0.295169946332737,
          0.5782828282828283
         ],
         "showlegend": false,
         "subplot": "polar2",
         "theta": [
          "Regular Play",
          "From Free Kick",
          "From Throw In",
          "Other",
          "From Counter",
          "From Goal Kick",
          "From Keeper",
          "From Kick Off",
          "From Corner"
         ],
         "type": "scatterpolar"
        },
        {
         "fill": "toself",
         "hoverinfo": "skip",
         "line": {
          "color": "#9E9E9E"
         },
         "mode": "lines",
         "name": "",
         "r": [
          0.9275278738946559,
          0.6567460317460317,
          0.865315852205006,
          0.040322580645161296,
          0.40066225165562913,
          0.6277372262773723,
          0.5298701298701298,
          0.30053667262969586,
          0.5
         ],
         "showlegend": false,
         "subplot": "polar2",
         "theta": [
          "Regular Play",
          "From Free Kick",
          "From Throw In",
          "Other",
          "From Counter",
          "From Goal Kick",
          "From Keeper",
          "From Kick Off",
          "From Corner"
         ],
         "type": "scatterpolar"
        },
        {
         "customdata": [
          [
           48.25
          ],
          [
           13.24
          ],
          [
           21.78
          ],
          [
           0.05
          ],
          [
           1.21
          ],
          [
           7.74
          ],
          [
           4.08
          ],
          [
           1.68
          ],
          [
           1.98
          ]
         ],
         "hovertemplate": "%{theta}<br> %{customdata[0]:.2f}<extra></extra>",
         "marker": {
          "color": "#9E9E9E",
          "size": 6
         },
         "mode": "markers",
         "name": "",
         "r": [
          0.9275278738946559,
          0.6567460317460317,
          0.865315852205006,
          0.040322580645161296,
          0.40066225165562913,
          0.6277372262773723,
          0.5298701298701298,
          0.30053667262969586,
          0.5
         ],
         "showlegend": false,
         "subplot": "polar2",
         "theta": [
          "Regular Play",
          "From Free Kick",
          "From Throw In",
          "Other",
          "From Counter",
          "From Goal Kick",
          "From Keeper",
          "From Kick Off",
          "From Corner"
         ],
         "type": "scatterpolar"
        },
        {
         "fill": "toself",
         "hoverinfo": "skip",
         "line": {
          "color": "#F44336"
         },
         "mode": "lines",
         "name": "",
         "r": [
          0.9011918492887351,
          0.568452380952381,
          0.8510131108462455,
          0.10483870967741936,
          0.2781456953642384,
          0.5344687753446877,
          0.57012987012987,
          0.8747763864042933,
          0.8560606060606061
         ],
         "showlegend": false,
         "subplot": "polar2",
         "theta": [
          "Regular Play",
          "From Free Kick",
          "From Throw In",
          "Other",
          "From Counter",
          "From Goal Kick",
          "From Keeper",
          "From Kick Off",
          "From Corner"
         ],
         "type": "scatterpolar"
        },
        {
         "customdata": [
          [
           46.88
          ],
          [
           11.46
          ],
          [
           21.42
          ],
          [
           0.13
          ],
          [
           0.84
          ],
          [
           6.59
          ],
          [
           4.39
          ],
          [
           4.89
          ],
          [
           3.39
          ]
         ],
         "hovertemplate": "%{theta}<br> %{customdata[0]:.2f}<extra></extra>",
         "marker": {
          "color": "#F44336",
          "size": 6
         },
         "mode": "markers",
         "name": "",
         "r": [
          0.9011918492887351,
          0.568452380952381,
          0.8510131108462455,
          0.10483870967741936,
          0.2781456953642384,
          0.5344687753446877,
          0.57012987012987,
          0.8747763864042933,
          0.8560606060606061
         ],
         "showlegend": false,
         "subplot": "polar2",
         "theta": [
          "Regular Play",
          "From Free Kick",
          "From Throw In",
          "Other",
          "From Counter",
          "From Goal Kick",
          "From Keeper",
          "From Kick Off",
          "From Corner"
         ],
         "type": "scatterpolar"
        }
       ],
       "layout": {
        "annotations": [
         {
          "font": {
           "color": "#FF8C00"
          },
          "showarrow": false,
          "text": "<b>General Stats</b>",
          "x": 0.147,
          "xanchor": "center",
          "xref": "paper",
          "y": 1,
          "yanchor": "bottom",
          "yref": "paper"
         },
         {
          "font": {
           "color": "#FF8C00"
          },
          "showarrow": false,
          "text": "<b>Match State Distribution</b>",
          "x": 0.5,
          "xanchor": "center",
          "xref": "paper",
          "y": 1,
          "yanchor": "bottom",
          "yref": "paper"
         },
         {
          "font": {
           "color": "#FF8C00"
          },
          "showarrow": false,
          "text": "<b>Play Patterns</b>",
          "x": 0.853,
          "xanchor": "center",
          "xref": "paper",
          "y": 1,
          "yanchor": "bottom",
          "yref": "paper"
         }
        ],
        "autosize": true,
        "margin": {
         "b": 40,
         "t": 80
        },
        "polar": {
         "angularaxis": {
          "tickfont": {
           "size": 9
          },
          "type": "category",
          "visible": true
         },
         "domain": {
          "x": [
           0,
           0.294
          ],
          "y": [
           0,
           1
          ]
         },
         "radialaxis": {
          "autorange": true,
          "range": [
           0,
           0.9184464525597553
          ],
          "type": "linear",
          "visible": false
         }
        },
        "polar2": {
         "angularaxis": {
          "tickfont": {
           "size": 9
          },
          "type": "category",
          "visible": true
         },
         "domain": {
          "x": [
           0.7060000000000001,
           1
          ],
          "y": [
           0,
           1
          ]
         },
         "radialaxis": {
          "autorange": true,
          "range": [
           0,
           1.0225347571033472
          ],
          "type": "linear",
          "visible": false
         }
        },
        "showlegend": true,
        "template": {
         "data": {
          "bar": [
           {
            "error_x": {
             "color": "#2a3f5f"
            },
            "error_y": {
             "color": "#2a3f5f"
            },
            "marker": {
             "line": {
              "color": "#E5ECF6",
              "width": 0.5
             },
             "pattern": {
              "fillmode": "overlay",
              "size": 10,
              "solidity": 0.2
             }
            },
            "type": "bar"
           }
          ],
          "barpolar": [
           {
            "marker": {
             "line": {
              "color": "#E5ECF6",
              "width": 0.5
             },
             "pattern": {
              "fillmode": "overlay",
              "size": 10,
              "solidity": 0.2
             }
            },
            "type": "barpolar"
           }
          ],
          "carpet": [
           {
            "aaxis": {
             "endlinecolor": "#2a3f5f",
             "gridcolor": "white",
             "linecolor": "white",
             "minorgridcolor": "white",
             "startlinecolor": "#2a3f5f"
            },
            "baxis": {
             "endlinecolor": "#2a3f5f",
             "gridcolor": "white",
             "linecolor": "white",
             "minorgridcolor": "white",
             "startlinecolor": "#2a3f5f"
            },
            "type": "carpet"
           }
          ],
          "choropleth": [
           {
            "colorbar": {
             "outlinewidth": 0,
             "ticks": ""
            },
            "type": "choropleth"
           }
          ],
          "contour": [
           {
            "colorbar": {
             "outlinewidth": 0,
             "ticks": ""
            },
            "colorscale": [
             [
              0,
              "#0d0887"
             ],
             [
              0.1111111111111111,
              "#46039f"
             ],
             [
              0.2222222222222222,
              "#7201a8"
             ],
             [
              0.3333333333333333,
              "#9c179e"
             ],
             [
              0.4444444444444444,
              "#bd3786"
             ],
             [
              0.5555555555555556,
              "#d8576b"
             ],
             [
              0.6666666666666666,
              "#ed7953"
             ],
             [
              0.7777777777777778,
              "#fb9f3a"
             ],
             [
              0.8888888888888888,
              "#fdca26"
             ],
             [
              1,
              "#f0f921"
             ]
            ],
            "type": "contour"
           }
          ],
          "contourcarpet": [
           {
            "colorbar": {
             "outlinewidth": 0,
             "ticks": ""
            },
            "type": "contourcarpet"
           }
          ],
          "heatmap": [
           {
            "colorbar": {
             "outlinewidth": 0,
             "ticks": ""
            },
            "colorscale": [
             [
              0,
              "#0d0887"
             ],
             [
              0.1111111111111111,
              "#46039f"
             ],
             [
              0.2222222222222222,
              "#7201a8"
             ],
             [
              0.3333333333333333,
              "#9c179e"
             ],
             [
              0.4444444444444444,
              "#bd3786"
             ],
             [
              0.5555555555555556,
              "#d8576b"
             ],
             [
              0.6666666666666666,
              "#ed7953"
             ],
             [
              0.7777777777777778,
              "#fb9f3a"
             ],
             [
              0.8888888888888888,
              "#fdca26"
             ],
             [
              1,
              "#f0f921"
             ]
            ],
            "type": "heatmap"
           }
          ],
          "heatmapgl": [
           {
            "colorbar": {
             "outlinewidth": 0,
             "ticks": ""
            },
            "colorscale": [
             [
              0,
              "#0d0887"
             ],
             [
              0.1111111111111111,
              "#46039f"
             ],
             [
              0.2222222222222222,
              "#7201a8"
             ],
             [
              0.3333333333333333,
              "#9c179e"
             ],
             [
              0.4444444444444444,
              "#bd3786"
             ],
             [
              0.5555555555555556,
              "#d8576b"
             ],
             [
              0.6666666666666666,
              "#ed7953"
             ],
             [
              0.7777777777777778,
              "#fb9f3a"
             ],
             [
              0.8888888888888888,
              "#fdca26"
             ],
             [
              1,
              "#f0f921"
             ]
            ],
            "type": "heatmapgl"
           }
          ],
          "histogram": [
           {
            "marker": {
             "pattern": {
              "fillmode": "overlay",
              "size": 10,
              "solidity": 0.2
             }
            },
            "type": "histogram"
           }
          ],
          "histogram2d": [
           {
            "colorbar": {
             "outlinewidth": 0,
             "ticks": ""
            },
            "colorscale": [
             [
              0,
              "#0d0887"
             ],
             [
              0.1111111111111111,
              "#46039f"
             ],
             [
              0.2222222222222222,
              "#7201a8"
             ],
             [
              0.3333333333333333,
              "#9c179e"
             ],
             [
              0.4444444444444444,
              "#bd3786"
             ],
             [
              0.5555555555555556,
              "#d8576b"
             ],
             [
              0.6666666666666666,
              "#ed7953"
             ],
             [
              0.7777777777777778,
              "#fb9f3a"
             ],
             [
              0.8888888888888888,
              "#fdca26"
             ],
             [
              1,
              "#f0f921"
             ]
            ],
            "type": "histogram2d"
           }
          ],
          "histogram2dcontour": [
           {
            "colorbar": {
             "outlinewidth": 0,
             "ticks": ""
            },
            "colorscale": [
             [
              0,
              "#0d0887"
             ],
             [
              0.1111111111111111,
              "#46039f"
             ],
             [
              0.2222222222222222,
              "#7201a8"
             ],
             [
              0.3333333333333333,
              "#9c179e"
             ],
             [
              0.4444444444444444,
              "#bd3786"
             ],
             [
              0.5555555555555556,
              "#d8576b"
             ],
             [
              0.6666666666666666,
              "#ed7953"
             ],
             [
              0.7777777777777778,
              "#fb9f3a"
             ],
             [
              0.8888888888888888,
              "#fdca26"
             ],
             [
              1,
              "#f0f921"
             ]
            ],
            "type": "histogram2dcontour"
           }
          ],
          "mesh3d": [
           {
            "colorbar": {
             "outlinewidth": 0,
             "ticks": ""
            },
            "type": "mesh3d"
           }
          ],
          "parcoords": [
           {
            "line": {
             "colorbar": {
              "outlinewidth": 0,
              "ticks": ""
             }
            },
            "type": "parcoords"
           }
          ],
          "pie": [
           {
            "automargin": true,
            "type": "pie"
           }
          ],
          "scatter": [
           {
            "fillpattern": {
             "fillmode": "overlay",
             "size": 10,
             "solidity": 0.2
            },
            "type": "scatter"
           }
          ],
          "scatter3d": [
           {
            "line": {
             "colorbar": {
              "outlinewidth": 0,
              "ticks": ""
             }
            },
            "marker": {
             "colorbar": {
              "outlinewidth": 0,
              "ticks": ""
             }
            },
            "type": "scatter3d"
           }
          ],
          "scattercarpet": [
           {
            "marker": {
             "colorbar": {
              "outlinewidth": 0,
              "ticks": ""
             }
            },
            "type": "scattercarpet"
           }
          ],
          "scattergeo": [
           {
            "marker": {
             "colorbar": {
              "outlinewidth": 0,
              "ticks": ""
             }
            },
            "type": "scattergeo"
           }
          ],
          "scattergl": [
           {
            "marker": {
             "colorbar": {
              "outlinewidth": 0,
              "ticks": ""
             }
            },
            "type": "scattergl"
           }
          ],
          "scattermapbox": [
           {
            "marker": {
             "colorbar": {
              "outlinewidth": 0,
              "ticks": ""
             }
            },
            "type": "scattermapbox"
           }
          ],
          "scatterpolar": [
           {
            "marker": {
             "colorbar": {
              "outlinewidth": 0,
              "ticks": ""
             }
            },
            "type": "scatterpolar"
           }
          ],
          "scatterpolargl": [
           {
            "marker": {
             "colorbar": {
              "outlinewidth": 0,
              "ticks": ""
             }
            },
            "type": "scatterpolargl"
           }
          ],
          "scatterternary": [
           {
            "marker": {
             "colorbar": {
              "outlinewidth": 0,
              "ticks": ""
             }
            },
            "type": "scatterternary"
           }
          ],
          "surface": [
           {
            "colorbar": {
             "outlinewidth": 0,
             "ticks": ""
            },
            "colorscale": [
             [
              0,
              "#0d0887"
             ],
             [
              0.1111111111111111,
              "#46039f"
             ],
             [
              0.2222222222222222,
              "#7201a8"
             ],
             [
              0.3333333333333333,
              "#9c179e"
             ],
             [
              0.4444444444444444,
              "#bd3786"
             ],
             [
              0.5555555555555556,
              "#d8576b"
             ],
             [
              0.6666666666666666,
              "#ed7953"
             ],
             [
              0.7777777777777778,
              "#fb9f3a"
             ],
             [
              0.8888888888888888,
              "#fdca26"
             ],
             [
              1,
              "#f0f921"
             ]
            ],
            "type": "surface"
           }
          ],
          "table": [
           {
            "cells": {
             "fill": {
              "color": "#EBF0F8"
             },
             "line": {
              "color": "white"
             }
            },
            "header": {
             "fill": {
              "color": "#C8D4E3"
             },
             "line": {
              "color": "white"
             }
            },
            "type": "table"
           }
          ]
         },
         "layout": {
          "annotationdefaults": {
           "arrowcolor": "#2a3f5f",
           "arrowhead": 0,
           "arrowwidth": 1
          },
          "autotypenumbers": "strict",
          "coloraxis": {
           "colorbar": {
            "outlinewidth": 0,
            "ticks": ""
           }
          },
          "colorscale": {
           "diverging": [
            [
             0,
             "#8e0152"
            ],
            [
             0.1,
             "#c51b7d"
            ],
            [
             0.2,
             "#de77ae"
            ],
            [
             0.3,
             "#f1b6da"
            ],
            [
             0.4,
             "#fde0ef"
            ],
            [
             0.5,
             "#f7f7f7"
            ],
            [
             0.6,
             "#e6f5d0"
            ],
            [
             0.7,
             "#b8e186"
            ],
            [
             0.8,
             "#7fbc41"
            ],
            [
             0.9,
             "#4d9221"
            ],
            [
             1,
             "#276419"
            ]
           ],
           "sequential": [
            [
             0,
             "#0d0887"
            ],
            [
             0.1111111111111111,
             "#46039f"
            ],
            [
             0.2222222222222222,
             "#7201a8"
            ],
            [
             0.3333333333333333,
             "#9c179e"
            ],
            [
             0.4444444444444444,
             "#bd3786"
            ],
            [
             0.5555555555555556,
             "#d8576b"
            ],
            [
             0.6666666666666666,
             "#ed7953"
            ],
            [
             0.7777777777777778,
             "#fb9f3a"
            ],
            [
             0.8888888888888888,
             "#fdca26"
            ],
            [
             1,
             "#f0f921"
            ]
           ],
           "sequentialminus": [
            [
             0,
             "#0d0887"
            ],
            [
             0.1111111111111111,
             "#46039f"
            ],
            [
             0.2222222222222222,
             "#7201a8"
            ],
            [
             0.3333333333333333,
             "#9c179e"
            ],
            [
             0.4444444444444444,
             "#bd3786"
            ],
            [
             0.5555555555555556,
             "#d8576b"
            ],
            [
             0.6666666666666666,
             "#ed7953"
            ],
            [
             0.7777777777777778,
             "#fb9f3a"
            ],
            [
             0.8888888888888888,
             "#fdca26"
            ],
            [
             1,
             "#f0f921"
            ]
           ]
          },
          "colorway": [
           "#636efa",
           "#EF553B",
           "#00cc96",
           "#ab63fa",
           "#FFA15A",
           "#19d3f3",
           "#FF6692",
           "#B6E880",
           "#FF97FF",
           "#FECB52"
          ],
          "font": {
           "color": "#2a3f5f"
          },
          "geo": {
           "bgcolor": "white",
           "lakecolor": "white",
           "landcolor": "#E5ECF6",
           "showlakes": true,
           "showland": true,
           "subunitcolor": "white"
          },
          "hoverlabel": {
           "align": "left"
          },
          "hovermode": "closest",
          "mapbox": {
           "style": "light"
          },
          "paper_bgcolor": "white",
          "plot_bgcolor": "#E5ECF6",
          "polar": {
           "angularaxis": {
            "gridcolor": "white",
            "linecolor": "white",
            "ticks": ""
           },
           "bgcolor": "#E5ECF6",
           "radialaxis": {
            "gridcolor": "white",
            "linecolor": "white",
            "ticks": ""
           }
          },
          "scene": {
           "xaxis": {
            "backgroundcolor": "#E5ECF6",
            "gridcolor": "white",
            "gridwidth": 2,
            "linecolor": "white",
            "showbackground": true,
            "ticks": "",
            "zerolinecolor": "white"
           },
           "yaxis": {
            "backgroundcolor": "#E5ECF6",
            "gridcolor": "white",
            "gridwidth": 2,
            "linecolor": "white",
            "showbackground": true,
            "ticks": "",
            "zerolinecolor": "white"
           },
           "zaxis": {
            "backgroundcolor": "#E5ECF6",
            "gridcolor": "white",
            "gridwidth": 2,
            "linecolor": "white",
            "showbackground": true,
            "ticks": "",
            "zerolinecolor": "white"
           }
          },
          "shapedefaults": {
           "line": {
            "color": "#2a3f5f"
           }
          },
          "ternary": {
           "aaxis": {
            "gridcolor": "white",
            "linecolor": "white",
            "ticks": ""
           },
           "baxis": {
            "gridcolor": "white",
            "linecolor": "white",
            "ticks": ""
           },
           "bgcolor": "#E5ECF6",
           "caxis": {
            "gridcolor": "white",
            "linecolor": "white",
            "ticks": ""
           }
          },
          "title": {
           "x": 0.05
          },
          "xaxis": {
           "automargin": true,
           "gridcolor": "white",
           "linecolor": "white",
           "ticks": "",
           "title": {
            "standoff": 15
           },
           "zerolinecolor": "white",
           "zerolinewidth": 2
          },
          "yaxis": {
           "automargin": true,
           "gridcolor": "white",
           "linecolor": "white",
           "ticks": "",
           "title": {
            "standoff": 15
           },
           "zerolinecolor": "white",
           "zerolinewidth": 2
          }
         }
        },
        "title": {
         "font": {
          "color": "#FF8C00"
         },
         "text": "<b>Behavior of Rennes according to score</b>",
         "x": 0.5
        }
       }
      },
      "image/png": "[encoded data removed]",
      "text/html": [
       "<div>                            <div id=\"90ea1afc-1134-41f1-9375-27885411a613\" class=\"plotly-graph-div\" style=\"height:700px; width:100%;\"></div>            <script type=\"text/javascript\">                require([\"plotly\"], function(Plotly) {                    window.PLOTLYENV=window.PLOTLYENV || {};                                    if (document.getElementById(\"90ea1afc-1134-41f1-9375-27885411a613\")) {                    Plotly.newPlot(                        \"90ea1afc-1134-41f1-9375-27885411a613\",                        [{\"hole\":0.45,\"hovertemplate\":\"%{label}\\u003cbr\\u003e %{value:.1f}%\\u003cextra\\u003e\\u003c\\u002fextra\\u003e\",\"labels\":[\"Leading\",\"Drawing\",\"Being Led\"],\"marker\":{\"colors\":[\"#4CAF50\",\"#9E9E9E\",\"#F44336\"],\"line\":{\"color\":\"white\",\"width\":2}},\"showlegend\":true,\"textinfo\":\"label+percent\",\"values\":[18.08,54.13,27.79],\"type\":\"pie\",\"domain\":{\"x\":[0.374,0.626],\"y\":[0.0,1.0]}},{\"fill\":\"toself\",\"hoverinfo\":\"skip\",\"line\":{\"color\":\"#4CAF50\"},\"mode\":\"lines\",\"name\":\"Lead\",\"r\":[0.685344827586207,0.38787878787878793,0.6365387464809602,0.6873194221508828,0.7970905442688739,0.745367822417905,0.6533834586466165,0.6410803127221038],\"showlegend\":false,\"theta\":[\"Goal\",\"Xg\",\"Possession\",\"Duel won\",\"PPDA\",\"Height def act\",\"Foul won\",\"Foul committed\"],\"type\":\"scatterpolar\",\"subplot\":\"polar\"},{\"customdata\":[[1.59],[0.64],[42.96],[42.82],[31.78],[40.63],[8.69],[9.02]],\"hovertemplate\":\"%{theta}\\u003cbr\\u003e %{customdata[0]:.2f}\\u003cextra\\u003e\\u003c\\u002fextra\\u003e\",\"marker\":{\"color\":\"#4CAF50\",\"size\":6},\"mode\":\"markers\",\"name\":\"\",\"r\":[0.685344827586207,0.38787878787878793,0.6365387464809602,0.6873194221508828,0.7970905442688739,0.745367822417905,0.6533834586466165,0.6410803127221038],\"showlegend\":false,\"theta\":[\"Goal\",\"Xg\",\"Possession\",\"Duel won\",\"PPDA\",\"Height def act\",\"Foul won\",\"Foul committed\"],\"type\":\"scatterpolar\",\"subplot\":\"polar\"},{\"fill\":\"toself\",\"hoverinfo\":\"skip\",\"line\":{\"color\":\"#9E9E9E\"},\"mode\":\"lines\",\"name\":\"Draw\",\"r\":[0.24568965517241378,0.4848484848484849,0.7515187435175582,0.7365971107544141,0.5701028342111863,0.8391120895248579,0.6834586466165413,0.7135749822316986],\"showlegend\":false,\"theta\":[\"Goal\",\"Xg\",\"Possession\",\"Duel won\",\"PPDA\",\"Height def act\",\"Foul won\",\"Foul committed\"],\"type\":\"scatterpolar\",\"subplot\":\"polar\"},{\"customdata\":[[0.57],[0.8],[50.72],[45.89],[22.73],[45.74],[9.09],[10.04]],\"hovertemplate\":\"%{theta}\\u003cbr\\u003e %{customdata[0]:.2f}\\u003cextra\\u003e\\u003c\\u002fextra\\u003e\",\"marker\":{\"color\":\"#9E9E9E\",\"size\":6},\"mode\":\"markers\",\"name\":\"\",\"r\":[0.24568965517241378,0.4848484848484849,0.7515187435175582,0.7365971107544141,0.5701028342111863,0.8391120895248579,0.6834586466165413,0.7135749822316986],\"showlegend\":false,\"theta\":[\"Goal\",\"Xg\",\"Possession\",\"Duel won\",\"PPDA\",\"Height def act\",\"Foul won\",\"Foul committed\"],\"type\":\"scatterpolar\",\"subplot\":\"polar\"},{\"fill\":\"toself\",\"hoverinfo\":\"skip\",\"line\":{\"color\":\"#F44336\"},\"mode\":\"lines\",\"name\":\"Loose\",\"r\":[0.3017241379310345,0.393939393939394,0.787968587938954,0.7479935794542537,0.3782292450464008,0.8897450009172629,0.47142857142857136,0.4761904761904762],\"showlegend\":false,\"theta\":[\"Goal\",\"Xg\",\"Possession\",\"Duel won\",\"PPDA\",\"Height def act\",\"Foul won\",\"Foul committed\"],\"type\":\"scatterpolar\",\"subplot\":\"polar\"},{\"customdata\":[[0.7],[0.65],[53.18],[46.6],[15.08],[48.5],[6.27],[6.7]],\"hovertemplate\":\"%{theta}\\u003cbr\\u003e %{customdata[0]:.2f}\\u003cextra\\u003e\\u003c\\u002fextra\\u003e\",\"marker\":{\"color\":\"#F44336\",\"size\":6},\"mode\":\"markers\",\"name\":\"\",\"r\":[0.3017241379310345,0.393939393939394,0.787968587938954,0.7479935794542537,0.3782292450464008,0.8897450009172629,0.47142857142857136,0.4761904761904762],\"showlegend\":false,\"theta\":[\"Goal\",\"Xg\",\"Possession\",\"Duel won\",\"PPDA\",\"Height def act\",\"Foul won\",\"Foul committed\"],\"type\":\"scatterpolar\",\"subplot\":\"polar\"},{\"fill\":\"toself\",\"hoverinfo\":\"skip\",\"line\":{\"color\":\"#4CAF50\"},\"mode\":\"lines\",\"name\":\"\",\"r\":[0.9905805459438677,0.5793650793650793,0.7945967421533571,0.11290322580645162,0.4834437086092715,0.6463909164639091,0.41948051948051945,0.295169946332737,0.5782828282828283],\"showlegend\":false,\"theta\":[\"Regular Play\",\"From Free Kick\",\"From Throw In\",\"Other\",\"From Counter\",\"From Goal Kick\",\"From Keeper\",\"From Kick Off\",\"From Corner\"],\"type\":\"scatterpolar\",\"subplot\":\"polar2\"},{\"customdata\":[[51.53],[11.68],[20.0],[0.14],[1.46],[7.97],[3.23],[1.65],[2.29]],\"hovertemplate\":\"%{theta}\\u003cbr\\u003e %{customdata[0]:.2f}\\u003cextra\\u003e\\u003c\\u002fextra\\u003e\",\"marker\":{\"color\":\"#4CAF50\",\"size\":6},\"mode\":\"markers\",\"name\":\"\",\"r\":[0.9905805459438677,0.5793650793650793,0.7945967421533571,0.11290322580645162,0.4834437086092715,0.6463909164639091,0.41948051948051945,0.295169946332737,0.5782828282828283],\"showlegend\":false,\"theta\":[\"Regular Play\",\"From Free Kick\",\"From Throw In\",\"Other\",\"From Counter\",\"From Goal Kick\",\"From Keeper\",\"From Kick Off\",\"From Corner\"],\"type\":\"scatterpolar\",\"subplot\":\"polar2\"},{\"fill\":\"toself\",\"hoverinfo\":\"skip\",\"line\":{\"color\":\"#9E9E9E\"},\"mode\":\"lines\",\"name\":\"\",\"r\":[0.9275278738946559,0.6567460317460317,0.865315852205006,0.040322580645161296,0.40066225165562913,0.6277372262773723,0.5298701298701298,0.30053667262969586,0.5],\"showlegend\":false,\"theta\":[\"Regular Play\",\"From Free Kick\",\"From Throw In\",\"Other\",\"From Counter\",\"From Goal Kick\",\"From Keeper\",\"From Kick Off\",\"From Corner\"],\"type\":\"scatterpolar\",\"subplot\":\"polar2\"},{\"customdata\":[[48.25],[13.24],[21.78],[0.05],[1.21],[7.74],[4.08],[1.68],[1.98]],\"hovertemplate\":\"%{theta}\\u003cbr\\u003e %{customdata[0]:.2f}\\u003cextra\\u003e\\u003c\\u002fextra\\u003e\",\"marker\":{\"color\":\"#9E9E9E\",\"size\":6},\"mode\":\"markers\",\"name\":\"\",\"r\":[0.9275278738946559,0.6567460317460317,0.865315852205006,0.040322580645161296,0.40066225165562913,0.6277372262773723,0.5298701298701298,0.30053667262969586,0.5],\"showlegend\":false,\"theta\":[\"Regular Play\",\"From Free Kick\",\"From Throw In\",\"Other\",\"From Counter\",\"From Goal Kick\",\"From Keeper\",\"From Kick Off\",\"From Corner\"],\"type\":\"scatterpolar\",\"subplot\":\"polar2\"},{\"fill\":\"toself\",\"hoverinfo\":\"skip\",\"line\":{\"color\":\"#F44336\"},\"mode\":\"lines\",\"name\":\"\",\"r\":[0.9011918492887351,0.568452380952381,0.8510131108462455,0.10483870967741936,0.2781456953642384,0.5344687753446877,0.57012987012987,0.8747763864042933,0.8560606060606061],\"showlegend\":false,\"theta\":[\"Regular Play\",\"From Free Kick\",\"From Throw In\",\"Other\",\"From Counter\",\"From Goal Kick\",\"From Keeper\",\"From Kick Off\",\"From Corner\"],\"type\":\"scatterpolar\",\"subplot\":\"polar2\"},{\"customdata\":[[46.88],[11.46],[21.42],[0.13],[0.84],[6.59],[4.39],[4.89],[3.39]],\"hovertemplate\":\"%{theta}\\u003cbr\\u003e %{customdata[0]:.2f}\\u003cextra\\u003e\\u003c\\u002fextra\\u003e\",\"marker\":{\"color\":\"#F44336\",\"size\":6},\"mode\":\"markers\",\"name\":\"\",\"r\":[0.9011918492887351,0.568452380952381,0.8510131108462455,0.10483870967741936,0.2781456953642384,0.5344687753446877,0.57012987012987,0.8747763864042933,0.8560606060606061],\"showlegend\":false,\"theta\":[\"Regular Play\",\"From Free Kick\",\"From Throw In\",\"Other\",\"From Counter\",\"From Goal Kick\",\"From Keeper\",\"From Kick Off\",\"From Corner\"],\"type\":\"scatterpolar\",\"subplot\":\"polar2\"}],                        {\"template\":{\"data\":{\"histogram2dcontour\":[{\"type\":\"histogram2dcontour\",\"colorbar\":{\"outlinewidth\":0,\"ticks\":\"\"},\"colorscale\":[[0.0,\"#0d0887\"],[0.1111111111111111,\"#46039f\"],[0.2222222222222222,\"#7201a8\"],[0.3333333333333333,\"#9c179e\"],[0.4444444444444444,\"#bd3786\"],[0.5555555555555556,\"#d8576b\"],[0.6666666666666666,\"#ed7953\"],[0.7777777777777778,\"#fb9f3a\"],[0.8888888888888888,\"#fdca26\"],[1.0,\"#f0f921\"]]}],\"choropleth\":[{\"type\":\"choropleth\",\"colorbar\":{\"outlinewidth\":0,\"ticks\":\"\"}}],\"histogram2d\":[{\"type\":\"histogram2d\",\"colorbar\":{\"outlinewidth\":0,\"ticks\":\"\"},\"colorscale\":[[0.0,\"#0d0887\"],[0.1111111111111111,\"#46039f\"],[0.2222222222222222,\"#7201a8\"],[0.3333333333333333,\"#9c179e\"],[0.4444444444444444,\"#bd3786\"],[0.5555555555555556,\"#d8576b\"],[0.6666666666666666,\"#ed7953\"],[0.7777777777777778,\"#fb9f3a\"],[0.8888888888888888,\"#fdca26\"],[1.0,\"#f0f921\"]]}],\"heatmap\":[{\"type\":\"heatmap\",\"colorbar\":{\"outlinewidth\":0,\"ticks\":\"\"},\"colorscale\":[[0.0,\"#0d0887\"],[0.1111111111111111,\"#46039f\"],[0.2222222222222222,\"#7201a8\"],[0.3333333333333333,\"#9c179e\"],[0.4444444444444444,\"#bd3786\"],[0.5555555555555556,\"#d8576b\"],[0.6666666666666666,\"#ed7953\"],[0.7777777777777778,\"#fb9f3a\"],[0.8888888888888888,\"#fdca26\"],[1.0,\"#f0f921\"]]}],\"heatmapgl\":[{\"type\":\"heatmapgl\",\"colorbar\":{\"outlinewidth\":0,\"ticks\":\"\"},\"colorscale\":[[0.0,\"#0d0887\"],[0.1111111111111111,\"#46039f\"],[0.2222222222222222,\"#7201a8\"],[0.3333333333333333,\"#9c179e\"],[0.4444444444444444,\"#bd3786\"],[0.5555555555555556,\"#d8576b\"],[0.6666666666666666,\"#ed7953\"],[0.7777777777777778,\"#fb9f3a\"],[0.8888888888888888,\"#fdca26\"],[1.0,\"#f0f921\"]]}],\"contourcarpet\":[{\"type\":\"contourcarpet\",\"colorbar\":{\"outlinewidth\":0,\"ticks\":\"\"}}],\"contour\":[{\"type\":\"contour\",\"colorbar\":{\"outlinewidth\":0,\"ticks\":\"\"},\"colorscale\":[[0.0,\"#0d0887\"],[0.1111111111111111,\"#46039f\"],[0.2222222222222222,\"#7201a8\"],[0.3333333333333333,\"#9c179e\"],[0.4444444444444444,\"#bd3786\"],[0.5555555555555556,\"#d8576b\"],[0.6666666666666666,\"#ed7953\"],[0.7777777777777778,\"#fb9f3a\"],[0.8888888888888888,\"#fdca26\"],[1.0,\"#f0f921\"]]}],\"surface\":[{\"type\":\"surface\",\"colorbar\":{\"outlinewidth\":0,\"ticks\":\"\"},\"colorscale\":[[0.0,\"#0d0887\"],[0.1111111111111111,\"#46039f\"],[0.2222222222222222,\"#7201a8\"],[0.3333333333333333,\"#9c179e\"],[0.4444444444444444,\"#bd3786\"],[0.5555555555555556,\"#d8576b\"],[0.6666666666666666,\"#ed7953\"],[0.7777777777777778,\"#fb9f3a\"],[0.8888888888888888,\"#fdca26\"],[1.0,\"#f0f921\"]]}],\"mesh3d\":[{\"type\":\"mesh3d\",\"colorbar\":{\"outlinewidth\":0,\"ticks\":\"\"}}],\"scatter\":[{\"fillpattern\":{\"fillmode\":\"overlay\",\"size\":10,\"solidity\":0.2},\"type\":\"scatter\"}],\"parcoords\":[{\"type\":\"parcoords\",\"line\":{\"colorbar\":{\"outlinewidth\":0,\"ticks\":\"\"}}}],\"scatterpolargl\":[{\"type\":\"scatterpolargl\",\"marker\":{\"colorbar\":{\"outlinewidth\":0,\"ticks\":\"\"}}}],\"bar\":[{\"error_x\":{\"color\":\"#2a3f5f\"},\"error_y\":{\"color\":\"#2a3f5f\"},\"marker\":{\"line\":{\"color\":\"#E5ECF6\",\"width\":0.5},\"pattern\":{\"fillmode\":\"overlay\",\"size\":10,\"solidity\":0.2}},\"type\":\"bar\"}],\"scattergeo\":[{\"type\":\"scattergeo\",\"marker\":{\"colorbar\":{\"outlinewidth\":0,\"ticks\":\"\"}}}],\"scatterpolar\":[{\"type\":\"scatterpolar\",\"marker\":{\"colorbar\":{\"outlinewidth\":0,\"ticks\":\"\"}}}],\"histogram\":[{\"marker\":{\"pattern\":{\"fillmode\":\"overlay\",\"size\":10,\"solidity\":0.2}},\"type\":\"histogram\"}],\"scattergl\":[{\"type\":\"scattergl\",\"marker\":{\"colorbar\":{\"outlinewidth\":0,\"ticks\":\"\"}}}],\"scatter3d\":[{\"type\":\"scatter3d\",\"line\":{\"colorbar\":{\"outlinewidth\":0,\"ticks\":\"\"}},\"marker\":{\"colorbar\":{\"outlinewidth\":0,\"ticks\":\"\"}}}],\"scattermapbox\":[{\"type\":\"scattermapbox\",\"marker\":{\"colorbar\":{\"outlinewidth\":0,\"ticks\":\"\"}}}],\"scatterternary\":[{\"type\":\"scatterternary\",\"marker\":{\"colorbar\":{\"outlinewidth\":0,\"ticks\":\"\"}}}],\"scattercarpet\":[{\"type\":\"scattercarpet\",\"marker\":{\"colorbar\":{\"outlinewidth\":0,\"ticks\":\"\"}}}],\"carpet\":[{\"aaxis\":{\"endlinecolor\":\"#2a3f5f\",\"gridcolor\":\"white\",\"linecolor\":\"white\",\"minorgridcolor\":\"white\",\"startlinecolor\":\"#2a3f5f\"},\"baxis\":{\"endlinecolor\":\"#2a3f5f\",\"gridcolor\":\"white\",\"linecolor\":\"white\",\"minorgridcolor\":\"white\",\"startlinecolor\":\"#2a3f5f\"},\"type\":\"carpet\"}],\"table\":[{\"cells\":{\"fill\":{\"color\":\"#EBF0F8\"},\"line\":{\"color\":\"white\"}},\"header\":{\"fill\":{\"color\":\"#C8D4E3\"},\"line\":{\"color\":\"white\"}},\"type\":\"table\"}],\"barpolar\":[{\"marker\":{\"line\":{\"color\":\"#E5ECF6\",\"width\":0.5},\"pattern\":{\"fillmode\":\"overlay\",\"size\":10,\"solidity\":0.2}},\"type\":\"barpolar\"}],\"pie\":[{\"automargin\":true,\"type\":\"pie\"}]},\"layout\":{\"autotypenumbers\":\"strict\",\"colorway\":[\"#636efa\",\"#EF553B\",\"#00cc96\",\"#ab63fa\",\"#FFA15A\",\"#19d3f3\",\"#FF6692\",\"#B6E880\",\"#FF97FF\",\"#FECB52\"],\"font\":{\"color\":\"#2a3f5f\"},\"hovermode\":\"closest\",\"hoverlabel\":{\"align\":\"left\"},\"paper_bgcolor\":\"white\",\"plot_bgcolor\":\"#E5ECF6\",\"polar\":{\"bgcolor\":\"#E5ECF6\",\"angularaxis\":{\"gridcolor\":\"white\",\"linecolor\":\"white\",\"ticks\":\"\"},\"radialaxis\":{\"gridcolor\":\"white\",\"linecolor\":\"white\",\"ticks\":\"\"}},\"ternary\":{\"bgcolor\":\"#E5ECF6\",\"aaxis\":{\"gridcolor\":\"white\",\"linecolor\":\"white\",\"ticks\":\"\"},\"baxis\":{\"gridcolor\":\"white\",\"linecolor\":\"white\",\"ticks\":\"\"},\"caxis\":{\"gridcolor\":\"white\",\"linecolor\":\"white\",\"ticks\":\"\"}},\"coloraxis\":{\"colorbar\":{\"outlinewidth\":0,\"ticks\":\"\"}},\"colorscale\":{\"sequential\":[[0.0,\"#0d0887\"],[0.1111111111111111,\"#46039f\"],[0.2222222222222222,\"#7201a8\"],[0.3333333333333333,\"#9c179e\"],[0.4444444444444444,\"#bd3786\"],[0.5555555555555556,\"#d8576b\"],[0.6666666666666666,\"#ed7953\"],[0.7777777777777778,\"#fb9f3a\"],[0.8888888888888888,\"#fdca26\"],[1.0,\"#f0f921\"]],\"sequentialminus\":[[0.0,\"#0d0887\"],[0.1111111111111111,\"#46039f\"],[0.2222222222222222,\"#7201a8\"],[0.3333333333333333,\"#9c179e\"],[0.4444444444444444,\"#bd3786\"],[0.5555555555555556,\"#d8576b\"],[0.6666666666666666,\"#ed7953\"],[0.7777777777777778,\"#fb9f3a\"],[0.8888888888888888,\"#fdca26\"],[1.0,\"#f0f921\"]],\"diverging\":[[0,\"#8e0152\"],[0.1,\"#c51b7d\"],[0.2,\"#de77ae\"],[0.3,\"#f1b6da\"],[0.4,\"#fde0ef\"],[0.5,\"#f7f7f7\"],[0.6,\"#e6f5d0\"],[0.7,\"#b8e186\"],[0.8,\"#7fbc41\"],[0.9,\"#4d9221\"],[1,\"#276419\"]]},\"xaxis\":{\"gridcolor\":\"white\",\"linecolor\":\"white\",\"ticks\":\"\",\"title\":{\"standoff\":15},\"zerolinecolor\":\"white\",\"automargin\":true,\"zerolinewidth\":2},\"yaxis\":{\"gridcolor\":\"white\",\"linecolor\":\"white\",\"ticks\":\"\",\"title\":{\"standoff\":15},\"zerolinecolor\":\"white\",\"automargin\":true,\"zerolinewidth\":2},\"scene\":{\"xaxis\":{\"backgroundcolor\":\"#E5ECF6\",\"gridcolor\":\"white\",\"linecolor\":\"white\",\"showbackground\":true,\"ticks\":\"\",\"zerolinecolor\":\"white\",\"gridwidth\":2},\"yaxis\":{\"backgroundcolor\":\"#E5ECF6\",\"gridcolor\":\"white\",\"linecolor\":\"white\",\"showbackground\":true,\"ticks\":\"\",\"zerolinecolor\":\"white\",\"gridwidth\":2},\"zaxis\":{\"backgroundcolor\":\"#E5ECF6\",\"gridcolor\":\"white\",\"linecolor\":\"white\",\"showbackground\":true,\"ticks\":\"\",\"zerolinecolor\":\"white\",\"gridwidth\":2}},\"shapedefaults\":{\"line\":{\"color\":\"#2a3f5f\"}},\"annotationdefaults\":{\"arrowcolor\":\"#2a3f5f\",\"arrowhead\":0,\"arrowwidth\":1},\"geo\":{\"bgcolor\":\"white\",\"landcolor\":\"#E5ECF6\",\"subunitcolor\":\"white\",\"showland\":true,\"showlakes\":true,\"lakecolor\":\"white\"},\"title\":{\"x\":0.05},\"mapbox\":{\"style\":\"light\"}}},\"polar\":{\"domain\":{\"x\":[0.0,0.294],\"y\":[0.0,1.0]},\"radialaxis\":{\"visible\":false},\"angularaxis\":{\"tickfont\":{\"size\":9},\"visible\":true}},\"polar2\":{\"domain\":{\"x\":[0.7060000000000001,1.0],\"y\":[0.0,1.0]},\"radialaxis\":{\"visible\":false},\"angularaxis\":{\"tickfont\":{\"size\":9},\"visible\":true}},\"annotations\":[{\"font\":{\"color\":\"#FF8C00\"},\"showarrow\":false,\"text\":\"\\u003cb\\u003eGeneral Stats\\u003c\\u002fb\\u003e\",\"x\":0.147,\"xanchor\":\"center\",\"xref\":\"paper\",\"y\":1.0,\"yanchor\":\"bottom\",\"yref\":\"paper\"},{\"font\":{\"color\":\"#FF8C00\"},\"showarrow\":false,\"text\":\"\\u003cb\\u003eMatch State Distribution\\u003c\\u002fb\\u003e\",\"x\":0.5,\"xanchor\":\"center\",\"xref\":\"paper\",\"y\":1.0,\"yanchor\":\"bottom\",\"yref\":\"paper\"},{\"font\":{\"color\":\"#FF8C00\"},\"showarrow\":false,\"text\":\"\\u003cb\\u003ePlay Patterns\\u003c\\u002fb\\u003e\",\"x\":0.853,\"xanchor\":\"center\",\"xref\":\"paper\",\"y\":1.0,\"yanchor\":\"bottom\",\"yref\":\"paper\"}],\"title\":{\"font\":{\"color\":\"#FF8C00\"},\"text\":\"\\u003cb\\u003eBehavior of Rennes according to score\\u003c\\u002fb\\u003e\",\"x\":0.5},\"margin\":{\"t\":80,\"b\":40},\"showlegend\":true,\"height\":700},                        {\"responsive\": true}                    ).then(function(){\n",
       "                            \n",
       "var gd = document.getElementById('90ea1afc-1134-41f1-9375-27885411a613');\n",
       "var x = new MutationObserver(function (mutations, observer) {{\n",
       "        var display = window.getComputedStyle(gd).display;\n",
       "        if (!display || display === 'none') {{\n",
       "            console.log([gd, 'removed!']);\n",
       "            Plotly.purge(gd);\n",
       "            observer.disconnect();\n",
       "        }}\n",
       "}});\n",
       "\n",
       "// Listen for the removal of the full notebook cells\n",
       "var notebookContainer = gd.closest('#notebook-container');\n",
       "if (notebookContainer) {{\n",
       "    x.observe(notebookContainer, {childList: true});\n",
       "}}\n",
       "\n",
       "// Listen for the clearing of the current output cell\n",
       "var outputEl = gd.closest('.output');\n",
       "if (outputEl) {{\n",
       "    x.observe(outputEl, {childList: true});\n",
       "}}\n",
       "\n",
       "                        })                };                });            </script>        </div>"
      ]
     },
     "metadata": {},
     "output_type": "display_data"
    },
    {
     "data": {
      "application/vnd.plotly.v1+json": {
       "config": {
        "plotlyServerURL": "https://plot.ly"
       },
       "data": [
        {
         "domain": {
          "x": [
           0.374,
           0.626
          ],
          "y": [
           0,
           1
          ]
         },
         "hole": 0.45,
         "hovertemplate": "%{label}<br> %{value:.1f}%<extra></extra>",
         "labels": [
          "Leading",
          "Drawing",
          "Being Led"
         ],
         "marker": {
          "colors": [
           "#4CAF50",
           "#9E9E9E",
           "#F44336"
          ],
          "line": {
           "color": "white",
           "width": 2
          }
         },
         "showlegend": true,
         "textinfo": "label+percent",
         "type": "pie",
         "values": [
          27.79,
          54.13,
          18.08
         ]
        },
        {
         "fill": "toself",
         "hoverinfo": "skip",
         "line": {
          "color": "#4CAF50"
         },
         "mode": "lines",
         "name": "Lead",
         "r": [
          0.6139240506329113,
          0.6165413533834586,
          0.6970373678725621,
          0.9005059021922428,
          0.7224980402403971,
          0.8335874952344643,
          0.6334125098970704,
          0.6246268656716417
         ],
         "showlegend": false,
         "subplot": "polar",
         "theta": [
          "Goal",
          "Xg",
          "Possession",
          "Duel won",
          "PPDA",
          "Height def act",
          "Foul won",
          "Foul committed"
         ],
         "type": "scatterpolar"
        },
        {
         "customdata": [
          [
           0.97
          ],
          [
           0.82
          ],
          [
           46.82
          ],
          [
           53.4
          ],
          [
           27.65
          ],
          [
           43.73
          ],
          [
           8
          ],
          [
           8.37
          ]
         ],
         "hovertemplate": "%{theta}<br> %{customdata[0]:.2f}<extra></extra>",
         "marker": {
          "color": "#4CAF50",
          "size": 6
         },
         "mode": "markers",
         "name": "",
         "r": [
          0.6139240506329113,
          0.6165413533834586,
          0.6970373678725621,
          0.9005059021922428,
          0.7224980402403971,
          0.8335874952344643,
          0.6334125098970704,
          0.6246268656716417
         ],
         "showlegend": false,
         "subplot": "polar",
         "theta": [
          "Goal",
          "Xg",
          "Possession",
          "Duel won",
          "PPDA",
          "Height def act",
          "Foul won",
          "Foul committed"
         ],
         "type": "scatterpolar"
        },
        {
         "fill": "toself",
         "hoverinfo": "skip",
         "line": {
          "color": "#9E9E9E"
         },
         "mode": "lines",
         "name": "Draw",
         "r": [
          0.37974683544303794,
          0.4210526315789474,
          0.7336608605032008,
          0.9038785834738617,
          0.4802717533315913,
          0.9184140297369424,
          0.6753760886777513,
          0.6701492537313433
         ],
         "showlegend": false,
         "subplot": "polar",
         "theta": [
          "Goal",
          "Xg",
          "Possession",
          "Duel won",
          "PPDA",
          "Height def act",
          "Foul won",
          "Foul committed"
         ],
         "type": "scatterpolar"
        },
        {
         "customdata": [
          [
           0.6
          ],
          [
           0.56
          ],
          [
           49.28
          ],
          [
           53.6
          ],
          [
           18.38
          ],
          [
           48.18
          ],
          [
           8.53
          ],
          [
           8.98
          ]
         ],
         "hovertemplate": "%{theta}<br> %{customdata[0]:.2f}<extra></extra>",
         "marker": {
          "color": "#9E9E9E",
          "size": 6
         },
         "mode": "markers",
         "name": "",
         "r": [
          0.37974683544303794,
          0.4210526315789474,
          0.7336608605032008,
          0.9038785834738617,
          0.4802717533315913,
          0.9184140297369424,
          0.6753760886777513,
          0.6701492537313433
         ],
         "showlegend": false,
         "subplot": "polar",
         "theta": [
          "Goal",
          "Xg",
          "Possession",
          "Duel won",
          "PPDA",
          "Height def act",
          "Foul won",
          "Foul committed"
         ],
         "type": "scatterpolar"
        },
        {
         "fill": "toself",
         "hoverinfo": "skip",
         "line": {
          "color": "#F44336"
         },
         "mode": "lines",
         "name": "Loose",
         "r": [
          0.5,
          0.6015037593984962,
          0.8491886258746464,
          0.9600337268128162,
          0.31356153645152857,
          0.9542508577964164,
          0.6991290577988915,
          0.7104477611940297
         ],
         "showlegend": false,
         "subplot": "polar",
         "theta": [
          "Goal",
          "Xg",
          "Possession",
          "Duel won",
          "PPDA",
          "Height def act",
          "Foul won",
          "Foul committed"
         ],
         "type": "scatterpolar"
        },
        {
         "customdata": [
          [
           0.79
          ],
          [
           0.8
          ],
          [
           57.04
          ],
          [
           56.93
          ],
          [
           12
          ],
          [
           50.06
          ],
          [
           8.83
          ],
          [
           9.52
          ]
         ],
         "hovertemplate": "%{theta}<br> %{customdata[0]:.2f}<extra></extra>",
         "marker": {
          "color": "#F44336",
          "size": 6
         },
         "mode": "markers",
         "name": "",
         "r": [
          0.5,
          0.6015037593984962,
          0.8491886258746464,
          0.9600337268128162,
          0.31356153645152857,
          0.9542508577964164,
          0.6991290577988915,
          0.7104477611940297
         ],
         "showlegend": false,
         "subplot": "polar",
         "theta": [
          "Goal",
          "Xg",
          "Possession",
          "Duel won",
          "PPDA",
          "Height def act",
          "Foul won",
          "Foul committed"
         ],
         "type": "scatterpolar"
        },
        {
         "fill": "toself",
         "hoverinfo": "skip",
         "line": {
          "color": "#4CAF50"
         },
         "mode": "lines",
         "name": "",
         "r": [
          0.946236559139785,
          0.8246102449888641,
          0.5914236706689536,
          0.06329113924050633,
          0.47244094488188976,
          0.7509727626459144,
          0.7011173184357541,
          0.2843601895734597,
          0.36952998379254454
         ],
         "showlegend": false,
         "subplot": "polar2",
         "theta": [
          "Regular Play",
          "From Free Kick",
          "From Throw In",
          "Other",
          "From Counter",
          "From Goal Kick",
          "From Keeper",
          "From Kick Off",
          "From Corner"
         ],
         "type": "scatterpolar"
        },
        {
         "customdata": [
          [
           49.28
          ],
          [
           14.81
          ],
          [
           17.24
          ],
          [
           0.05
          ],
          [
           1.8
          ],
          [
           7.72
          ],
          [
           5.02
          ],
          [
           1.8
          ],
          [
           2.28
          ]
         ],
         "hovertemplate": "%{theta}<br> %{customdata[0]:.2f}<extra></extra>",
         "marker": {
          "color": "#4CAF50",
          "size": 6
         },
         "mode": "markers",
         "name": "",
         "r": [
          0.946236559139785,
          0.8246102449888641,
          0.5914236706689536,
          0.06329113924050633,
          0.47244094488188976,
          0.7509727626459144,
          0.7011173184357541,
          0.2843601895734597,
          0.36952998379254454
         ],
         "showlegend": false,
         "subplot": "polar2",
         "theta": [
          "Regular Play",
          "From Free Kick",
          "From Throw In",
          "Other",
          "From Counter",
          "From Goal Kick",
          "From Keeper",
          "From Kick Off",
          "From Corner"
         ],
         "type": "scatterpolar"
        },
        {
         "fill": "toself",
         "hoverinfo": "skip",
         "line": {
          "color": "#9E9E9E"
         },
         "mode": "lines",
         "name": "",
         "r": [
          0.9032258064516129,
          0.7037861915367484,
          0.820926243567753,
          0.13924050632911392,
          0.24671916010498685,
          0.7071984435797666,
          0.4245810055865922,
          0.30963665086887837,
          0.5008103727714749
         ],
         "showlegend": false,
         "subplot": "polar2",
         "theta": [
          "Regular Play",
          "From Free Kick",
          "From Throw In",
          "Other",
          "From Counter",
          "From Goal Kick",
          "From Keeper",
          "From Kick Off",
          "From Corner"
         ],
         "type": "scatterpolar"
        },
        {
         "customdata": [
          [
           47.04
          ],
          [
           12.64
          ],
          [
           23.93
          ],
          [
           0.11
          ],
          [
           0.94
          ],
          [
           7.27
          ],
          [
           3.04
          ],
          [
           1.96
          ],
          [
           3.09
          ]
         ],
         "hovertemplate": "%{theta}<br> %{customdata[0]:.2f}<extra></extra>",
         "marker": {
          "color": "#9E9E9E",
          "size": 6
         },
         "mode": "markers",
         "name": "",
         "r": [
          0.9032258064516129,
          0.7037861915367484,
          0.820926243567753,
          0.13924050632911392,
          0.24671916010498685,
          0.7071984435797666,
          0.4245810055865922,
          0.30963665086887837,
          0.5008103727714749
         ],
         "showlegend": false,
         "subplot": "polar2",
         "theta": [
          "Regular Play",
          "From Free Kick",
          "From Throw In",
          "Other",
          "From Counter",
          "From Goal Kick",
          "From Keeper",
          "From Kick Off",
          "From Corner"
         ],
         "type": "scatterpolar"
        },
        {
         "fill": "toself",
         "hoverinfo": "skip",
         "line": {
          "color": "#F44336"
         },
         "mode": "lines",
         "name": "",
         "r": [
          0.8963133640552996,
          0.653674832962138,
          0.7790737564322471,
          0.4936708860759494,
          0.1679790026246719,
          0.7159533073929962,
          0.34776536312849166,
          0.7835703001579779,
          0.48946515397082657
         ],
         "showlegend": false,
         "subplot": "polar2",
         "theta": [
          "Regular Play",
          "From Free Kick",
          "From Throw In",
          "Other",
          "From Counter",
          "From Goal Kick",
          "From Keeper",
          "From Kick Off",
          "From Corner"
         ],
         "type": "scatterpolar"
        },
        {
         "customdata": [
          [
           46.68
          ],
          [
           11.74
          ],
          [
           22.71
          ],
          [
           0.39
          ],
          [
           0.64
          ],
          [
           7.36
          ],
          [
           2.49
          ],
          [
           4.96
          ],
          [
           3.02
          ]
         ],
         "hovertemplate": "%{theta}<br> %{customdata[0]:.2f}<extra></extra>",
         "marker": {
          "color": "#F44336",
          "size": 6
         },
         "mode": "markers",
         "name": "",
         "r": [
          0.8963133640552996,
          0.653674832962138,
          0.7790737564322471,
          0.4936708860759494,
          0.1679790026246719,
          0.7159533073929962,
          0.34776536312849166,
          0.7835703001579779,
          0.48946515397082657
         ],
         "showlegend": false,
         "subplot": "polar2",
         "theta": [
          "Regular Play",
          "From Free Kick",
          "From Throw In",
          "Other",
          "From Counter",
          "From Goal Kick",
          "From Keeper",
          "From Kick Off",
          "From Corner"
         ],
         "type": "scatterpolar"
        }
       ],
       "layout": {
        "annotations": [
         {
          "font": {
           "color": "#FF8C00"
          },
          "showarrow": false,
          "text": "<b>General Stats</b>",
          "x": 0.147,
          "xanchor": "center",
          "xref": "paper",
          "y": 1,
          "yanchor": "bottom",
          "yref": "paper"
         },
         {
          "font": {
           "color": "#FF8C00"
          },
          "showarrow": false,
          "text": "<b>Match State Distribution</b>",
          "x": 0.5,
          "xanchor": "center",
          "xref": "paper",
          "y": 1,
          "yanchor": "bottom",
          "yref": "paper"
         },
         {
          "font": {
           "color": "#FF8C00"
          },
          "showarrow": false,
          "text": "<b>Play Patterns</b>",
          "x": 0.853,
          "xanchor": "center",
          "xref": "paper",
          "y": 1,
          "yanchor": "bottom",
          "yref": "paper"
         }
        ],
        "autosize": true,
        "margin": {
         "b": 40,
         "t": 80
        },
        "polar": {
         "angularaxis": {
          "tickfont": {
           "size": 9
          },
          "type": "category",
          "visible": true
         },
         "domain": {
          "x": [
           0,
           0.294
          ],
          "y": [
           0,
           1
          ]
         },
         "radialaxis": {
          "autorange": true,
          "range": [
           0,
           0.9910025567100038
          ],
          "type": "linear",
          "visible": false
         }
        },
        "polar2": {
         "angularaxis": {
          "tickfont": {
           "size": 9
          },
          "type": "category",
          "visible": true
         },
         "domain": {
          "x": [
           0.7060000000000001,
           1
          ],
          "y": [
           0,
           1
          ]
         },
         "radialaxis": {
          "autorange": true,
          "range": [
           0,
           0.9767603191120361
          ],
          "type": "linear",
          "visible": false
         }
        },
        "showlegend": true,
        "template": {
         "data": {
          "bar": [
           {
            "error_x": {
             "color": "#2a3f5f"
            },
            "error_y": {
             "color": "#2a3f5f"
            },
            "marker": {
             "line": {
              "color": "#E5ECF6",
              "width": 0.5
             },
             "pattern": {
              "fillmode": "overlay",
              "size": 10,
              "solidity": 0.2
             }
            },
            "type": "bar"
           }
          ],
          "barpolar": [
           {
            "marker": {
             "line": {
              "color": "#E5ECF6",
              "width": 0.5
             },
             "pattern": {
              "fillmode": "overlay",
              "size": 10,
              "solidity": 0.2
             }
            },
            "type": "barpolar"
           }
          ],
          "carpet": [
           {
            "aaxis": {
             "endlinecolor": "#2a3f5f",
             "gridcolor": "white",
             "linecolor": "white",
             "minorgridcolor": "white",
             "startlinecolor": "#2a3f5f"
            },
            "baxis": {
             "endlinecolor": "#2a3f5f",
             "gridcolor": "white",
             "linecolor": "white",
             "minorgridcolor": "white",
             "startlinecolor": "#2a3f5f"
            },
            "type": "carpet"
           }
          ],
          "choropleth": [
           {
            "colorbar": {
             "outlinewidth": 0,
             "ticks": ""
            },
            "type": "choropleth"
           }
          ],
          "contour": [
           {
            "colorbar": {
             "outlinewidth": 0,
             "ticks": ""
            },
            "colorscale": [
             [
              0,
              "#0d0887"
             ],
             [
              0.1111111111111111,
              "#46039f"
             ],
             [
              0.2222222222222222,
              "#7201a8"
             ],
             [
              0.3333333333333333,
              "#9c179e"
             ],
             [
              0.4444444444444444,
              "#bd3786"
             ],
             [
              0.5555555555555556,
              "#d8576b"
             ],
             [
              0.6666666666666666,
              "#ed7953"
             ],
             [
              0.7777777777777778,
              "#fb9f3a"
             ],
             [
              0.8888888888888888,
              "#fdca26"
             ],
             [
              1,
              "#f0f921"
             ]
            ],
            "type": "contour"
           }
          ],
          "contourcarpet": [
           {
            "colorbar": {
             "outlinewidth": 0,
             "ticks": ""
            },
            "type": "contourcarpet"
           }
          ],
          "heatmap": [
           {
            "colorbar": {
             "outlinewidth": 0,
             "ticks": ""
            },
            "colorscale": [
             [
              0,
              "#0d0887"
             ],
             [
              0.1111111111111111,
              "#46039f"
             ],
             [
              0.2222222222222222,
              "#7201a8"
             ],
             [
              0.3333333333333333,
              "#9c179e"
             ],
             [
              0.4444444444444444,
              "#bd3786"
             ],
             [
              0.5555555555555556,
              "#d8576b"
             ],
             [
              0.6666666666666666,
              "#ed7953"
             ],
             [
              0.7777777777777778,
              "#fb9f3a"
             ],
             [
              0.8888888888888888,
              "#fdca26"
             ],
             [
              1,
              "#f0f921"
             ]
            ],
            "type": "heatmap"
           }
          ],
          "heatmapgl": [
           {
            "colorbar": {
             "outlinewidth": 0,
             "ticks": ""
            },
            "colorscale": [
             [
              0,
              "#0d0887"
             ],
             [
              0.1111111111111111,
              "#46039f"
             ],
             [
              0.2222222222222222,
              "#7201a8"
             ],
             [
              0.3333333333333333,
              "#9c179e"
             ],
             [
              0.4444444444444444,
              "#bd3786"
             ],
             [
              0.5555555555555556,
              "#d8576b"
             ],
             [
              0.6666666666666666,
              "#ed7953"
             ],
             [
              0.7777777777777778,
              "#fb9f3a"
             ],
             [
              0.8888888888888888,
              "#fdca26"
             ],
             [
              1,
              "#f0f921"
             ]
            ],
            "type": "heatmapgl"
           }
          ],
          "histogram": [
           {
            "marker": {
             "pattern": {
              "fillmode": "overlay",
              "size": 10,
              "solidity": 0.2
             }
            },
            "type": "histogram"
           }
          ],
          "histogram2d": [
           {
            "colorbar": {
             "outlinewidth": 0,
             "ticks": ""
            },
            "colorscale": [
             [
              0,
              "#0d0887"
             ],
             [
              0.1111111111111111,
              "#46039f"
             ],
             [
              0.2222222222222222,
              "#7201a8"
             ],
             [
              0.3333333333333333,
              "#9c179e"
             ],
             [
              0.4444444444444444,
              "#bd3786"
             ],
             [
              0.5555555555555556,
              "#d8576b"
             ],
             [
              0.6666666666666666,
              "#ed7953"
             ],
             [
              0.7777777777777778,
              "#fb9f3a"
             ],
             [
              0.8888888888888888,
              "#fdca26"
             ],
             [
              1,
              "#f0f921"
             ]
            ],
            "type": "histogram2d"
           }
          ],
          "histogram2dcontour": [
           {
            "colorbar": {
             "outlinewidth": 0,
             "ticks": ""
            },
            "colorscale": [
             [
              0,
              "#0d0887"
             ],
             [
              0.1111111111111111,
              "#46039f"
             ],
             [
              0.2222222222222222,
              "#7201a8"
             ],
             [
              0.3333333333333333,
              "#9c179e"
             ],
             [
              0.4444444444444444,
              "#bd3786"
             ],
             [
              0.5555555555555556,
              "#d8576b"
             ],
             [
              0.6666666666666666,
              "#ed7953"
             ],
             [
              0.7777777777777778,
              "#fb9f3a"
             ],
             [
              0.8888888888888888,
              "#fdca26"
             ],
             [
              1,
              "#f0f921"
             ]
            ],
            "type": "histogram2dcontour"
           }
          ],
          "mesh3d": [
           {
            "colorbar": {
             "outlinewidth": 0,
             "ticks": ""
            },
            "type": "mesh3d"
           }
          ],
          "parcoords": [
           {
            "line": {
             "colorbar": {
              "outlinewidth": 0,
              "ticks": ""
             }
            },
            "type": "parcoords"
           }
          ],
          "pie": [
           {
            "automargin": true,
            "type": "pie"
           }
          ],
          "scatter": [
           {
            "fillpattern": {
             "fillmode": "overlay",
             "size": 10,
             "solidity": 0.2
            },
            "type": "scatter"
           }
          ],
          "scatter3d": [
           {
            "line": {
             "colorbar": {
              "outlinewidth": 0,
              "ticks": ""
             }
            },
            "marker": {
             "colorbar": {
              "outlinewidth": 0,
              "ticks": ""
             }
            },
            "type": "scatter3d"
           }
          ],
          "scattercarpet": [
           {
            "marker": {
             "colorbar": {
              "outlinewidth": 0,
              "ticks": ""
             }
            },
            "type": "scattercarpet"
           }
          ],
          "scattergeo": [
           {
            "marker": {
             "colorbar": {
              "outlinewidth": 0,
              "ticks": ""
             }
            },
            "type": "scattergeo"
           }
          ],
          "scattergl": [
           {
            "marker": {
             "colorbar": {
              "outlinewidth": 0,
              "ticks": ""
             }
            },
            "type": "scattergl"
           }
          ],
          "scattermapbox": [
           {
            "marker": {
             "colorbar": {
              "outlinewidth": 0,
              "ticks": ""
             }
            },
            "type": "scattermapbox"
           }
          ],
          "scatterpolar": [
           {
            "marker": {
             "colorbar": {
              "outlinewidth": 0,
              "ticks": ""
             }
            },
            "type": "scatterpolar"
           }
          ],
          "scatterpolargl": [
           {
            "marker": {
             "colorbar": {
              "outlinewidth": 0,
              "ticks": ""
             }
            },
            "type": "scatterpolargl"
           }
          ],
          "scatterternary": [
           {
            "marker": {
             "colorbar": {
              "outlinewidth": 0,
              "ticks": ""
             }
            },
            "type": "scatterternary"
           }
          ],
          "surface": [
           {
            "colorbar": {
             "outlinewidth": 0,
             "ticks": ""
            },
            "colorscale": [
             [
              0,
              "#0d0887"
             ],
             [
              0.1111111111111111,
              "#46039f"
             ],
             [
              0.2222222222222222,
              "#7201a8"
             ],
             [
              0.3333333333333333,
              "#9c179e"
             ],
             [
              0.4444444444444444,
              "#bd3786"
             ],
             [
              0.5555555555555556,
              "#d8576b"
             ],
             [
              0.6666666666666666,
              "#ed7953"
             ],
             [
              0.7777777777777778,
              "#fb9f3a"
             ],
             [
              0.8888888888888888,
              "#fdca26"
             ],
             [
              1,
              "#f0f921"
             ]
            ],
            "type": "surface"
           }
          ],
          "table": [
           {
            "cells": {
             "fill": {
              "color": "#EBF0F8"
             },
             "line": {
              "color": "white"
             }
            },
            "header": {
             "fill": {
              "color": "#C8D4E3"
             },
             "line": {
              "color": "white"
             }
            },
            "type": "table"
           }
          ]
         },
         "layout": {
          "annotationdefaults": {
           "arrowcolor": "#2a3f5f",
           "arrowhead": 0,
           "arrowwidth": 1
          },
          "autotypenumbers": "strict",
          "coloraxis": {
           "colorbar": {
            "outlinewidth": 0,
            "ticks": ""
           }
          },
          "colorscale": {
           "diverging": [
            [
             0,
             "#8e0152"
            ],
            [
             0.1,
             "#c51b7d"
            ],
            [
             0.2,
             "#de77ae"
            ],
            [
             0.3,
             "#f1b6da"
            ],
            [
             0.4,
             "#fde0ef"
            ],
            [
             0.5,
             "#f7f7f7"
            ],
            [
             0.6,
             "#e6f5d0"
            ],
            [
             0.7,
             "#b8e186"
            ],
            [
             0.8,
             "#7fbc41"
            ],
            [
             0.9,
             "#4d9221"
            ],
            [
             1,
             "#276419"
            ]
           ],
           "sequential": [
            [
             0,
             "#0d0887"
            ],
            [
             0.1111111111111111,
             "#46039f"
            ],
            [
             0.2222222222222222,
             "#7201a8"
            ],
            [
             0.3333333333333333,
             "#9c179e"
            ],
            [
             0.4444444444444444,
             "#bd3786"
            ],
            [
             0.5555555555555556,
             "#d8576b"
            ],
            [
             0.6666666666666666,
             "#ed7953"
            ],
            [
             0.7777777777777778,
             "#fb9f3a"
            ],
            [
             0.8888888888888888,
             "#fdca26"
            ],
            [
             1,
             "#f0f921"
            ]
           ],
           "sequentialminus": [
            [
             0,
             "#0d0887"
            ],
            [
             0.1111111111111111,
             "#46039f"
            ],
            [
             0.2222222222222222,
             "#7201a8"
            ],
            [
             0.3333333333333333,
             "#9c179e"
            ],
            [
             0.4444444444444444,
             "#bd3786"
            ],
            [
             0.5555555555555556,
             "#d8576b"
            ],
            [
             0.6666666666666666,
             "#ed7953"
            ],
            [
             0.7777777777777778,
             "#fb9f3a"
            ],
            [
             0.8888888888888888,
             "#fdca26"
            ],
            [
             1,
             "#f0f921"
            ]
           ]
          },
          "colorway": [
           "#636efa",
           "#EF553B",
           "#00cc96",
           "#ab63fa",
           "#FFA15A",
           "#19d3f3",
           "#FF6692",
           "#B6E880",
           "#FF97FF",
           "#FECB52"
          ],
          "font": {
           "color": "#2a3f5f"
          },
          "geo": {
           "bgcolor": "white",
           "lakecolor": "white",
           "landcolor": "#E5ECF6",
           "showlakes": true,
           "showland": true,
           "subunitcolor": "white"
          },
          "hoverlabel": {
           "align": "left"
          },
          "hovermode": "closest",
          "mapbox": {
           "style": "light"
          },
          "paper_bgcolor": "white",
          "plot_bgcolor": "#E5ECF6",
          "polar": {
           "angularaxis": {
            "gridcolor": "white",
            "linecolor": "white",
            "ticks": ""
           },
           "bgcolor": "#E5ECF6",
           "radialaxis": {
            "gridcolor": "white",
            "linecolor": "white",
            "ticks": ""
           }
          },
          "scene": {
           "xaxis": {
            "backgroundcolor": "#E5ECF6",
            "gridcolor": "white",
            "gridwidth": 2,
            "linecolor": "white",
            "showbackground": true,
            "ticks": "",
            "zerolinecolor": "white"
           },
           "yaxis": {
            "backgroundcolor": "#E5ECF6",
            "gridcolor": "white",
            "gridwidth": 2,
            "linecolor": "white",
            "showbackground": true,
            "ticks": "",
            "zerolinecolor": "white"
           },
           "zaxis": {
            "backgroundcolor": "#E5ECF6",
            "gridcolor": "white",
            "gridwidth": 2,
            "linecolor": "white",
            "showbackground": true,
            "ticks": "",
            "zerolinecolor": "white"
           }
          },
          "shapedefaults": {
           "line": {
            "color": "#2a3f5f"
           }
          },
          "ternary": {
           "aaxis": {
            "gridcolor": "white",
            "linecolor": "white",
            "ticks": ""
           },
           "baxis": {
            "gridcolor": "white",
            "linecolor": "white",
            "ticks": ""
           },
           "bgcolor": "#E5ECF6",
           "caxis": {
            "gridcolor": "white",
            "linecolor": "white",
            "ticks": ""
           }
          },
          "title": {
           "x": 0.05
          },
          "xaxis": {
           "automargin": true,
           "gridcolor": "white",
           "linecolor": "white",
           "ticks": "",
           "title": {
            "standoff": 15
           },
           "zerolinecolor": "white",
           "zerolinewidth": 2
          },
          "yaxis": {
           "automargin": true,
           "gridcolor": "white",
           "linecolor": "white",
           "ticks": "",
           "title": {
            "standoff": 15
           },
           "zerolinecolor": "white",
           "zerolinewidth": 2
          }
         }
        },
        "title": {
         "font": {
          "color": "#FF8C00"
         },
         "text": "<b>Behavior of opponents of Rennes according to score</b>",
         "x": 0.5
        }
       }
      },
      "image/png": "[encoded data removed]",
      "text/html": [
       "<div>                            <div id=\"7926f40a-4618-43a7-bfd7-25d831fea6a2\" class=\"plotly-graph-div\" style=\"height:700px; width:100%;\"></div>            <script type=\"text/javascript\">                require([\"plotly\"], function(Plotly) {                    window.PLOTLYENV=window.PLOTLYENV || {};                                    if (document.getElementById(\"7926f40a-4618-43a7-bfd7-25d831fea6a2\")) {                    Plotly.newPlot(                        \"7926f40a-4618-43a7-bfd7-25d831fea6a2\",                        [{\"hole\":0.45,\"hovertemplate\":\"%{label}\\u003cbr\\u003e %{value:.1f}%\\u003cextra\\u003e\\u003c\\u002fextra\\u003e\",\"labels\":[\"Leading\",\"Drawing\",\"Being Led\"],\"marker\":{\"colors\":[\"#4CAF50\",\"#9E9E9E\",\"#F44336\"],\"line\":{\"color\":\"white\",\"width\":2}},\"showlegend\":true,\"textinfo\":\"label+percent\",\"values\":[27.79,54.13,18.08],\"type\":\"pie\",\"domain\":{\"x\":[0.374,0.626],\"y\":[0.0,1.0]}},{\"fill\":\"toself\",\"hoverinfo\":\"skip\",\"line\":{\"color\":\"#4CAF50\"},\"mode\":\"lines\",\"name\":\"Lead\",\"r\":[0.6139240506329113,0.6165413533834586,0.6970373678725621,0.9005059021922428,0.7224980402403971,0.8335874952344643,0.6334125098970704,0.6246268656716417],\"showlegend\":false,\"theta\":[\"Goal\",\"Xg\",\"Possession\",\"Duel won\",\"PPDA\",\"Height def act\",\"Foul won\",\"Foul committed\"],\"type\":\"scatterpolar\",\"subplot\":\"polar\"},{\"customdata\":[[0.97],[0.82],[46.82],[53.4],[27.65],[43.73],[8.0],[8.37]],\"hovertemplate\":\"%{theta}\\u003cbr\\u003e %{customdata[0]:.2f}\\u003cextra\\u003e\\u003c\\u002fextra\\u003e\",\"marker\":{\"color\":\"#4CAF50\",\"size\":6},\"mode\":\"markers\",\"name\":\"\",\"r\":[0.6139240506329113,0.6165413533834586,0.6970373678725621,0.9005059021922428,0.7224980402403971,0.8335874952344643,0.6334125098970704,0.6246268656716417],\"showlegend\":false,\"theta\":[\"Goal\",\"Xg\",\"Possession\",\"Duel won\",\"PPDA\",\"Height def act\",\"Foul won\",\"Foul committed\"],\"type\":\"scatterpolar\",\"subplot\":\"polar\"},{\"fill\":\"toself\",\"hoverinfo\":\"skip\",\"line\":{\"color\":\"#9E9E9E\"},\"mode\":\"lines\",\"name\":\"Draw\",\"r\":[0.37974683544303794,0.4210526315789474,0.7336608605032008,0.9038785834738617,0.4802717533315913,0.9184140297369424,0.6753760886777513,0.6701492537313433],\"showlegend\":false,\"theta\":[\"Goal\",\"Xg\",\"Possession\",\"Duel won\",\"PPDA\",\"Height def act\",\"Foul won\",\"Foul committed\"],\"type\":\"scatterpolar\",\"subplot\":\"polar\"},{\"customdata\":[[0.6],[0.56],[49.28],[53.6],[18.38],[48.18],[8.53],[8.98]],\"hovertemplate\":\"%{theta}\\u003cbr\\u003e %{customdata[0]:.2f}\\u003cextra\\u003e\\u003c\\u002fextra\\u003e\",\"marker\":{\"color\":\"#9E9E9E\",\"size\":6},\"mode\":\"markers\",\"name\":\"\",\"r\":[0.37974683544303794,0.4210526315789474,0.7336608605032008,0.9038785834738617,0.4802717533315913,0.9184140297369424,0.6753760886777513,0.6701492537313433],\"showlegend\":false,\"theta\":[\"Goal\",\"Xg\",\"Possession\",\"Duel won\",\"PPDA\",\"Height def act\",\"Foul won\",\"Foul committed\"],\"type\":\"scatterpolar\",\"subplot\":\"polar\"},{\"fill\":\"toself\",\"hoverinfo\":\"skip\",\"line\":{\"color\":\"#F44336\"},\"mode\":\"lines\",\"name\":\"Loose\",\"r\":[0.5,0.6015037593984962,0.8491886258746464,0.9600337268128162,0.31356153645152857,0.9542508577964164,0.6991290577988915,0.7104477611940297],\"showlegend\":false,\"theta\":[\"Goal\",\"Xg\",\"Possession\",\"Duel won\",\"PPDA\",\"Height def act\",\"Foul won\",\"Foul committed\"],\"type\":\"scatterpolar\",\"subplot\":\"polar\"},{\"customdata\":[[0.79],[0.8],[57.04],[56.93],[12.0],[50.06],[8.83],[9.52]],\"hovertemplate\":\"%{theta}\\u003cbr\\u003e %{customdata[0]:.2f}\\u003cextra\\u003e\\u003c\\u002fextra\\u003e\",\"marker\":{\"color\":\"#F44336\",\"size\":6},\"mode\":\"markers\",\"name\":\"\",\"r\":[0.5,0.6015037593984962,0.8491886258746464,0.9600337268128162,0.31356153645152857,0.9542508577964164,0.6991290577988915,0.7104477611940297],\"showlegend\":false,\"theta\":[\"Goal\",\"Xg\",\"Possession\",\"Duel won\",\"PPDA\",\"Height def act\",\"Foul won\",\"Foul committed\"],\"type\":\"scatterpolar\",\"subplot\":\"polar\"},{\"fill\":\"toself\",\"hoverinfo\":\"skip\",\"line\":{\"color\":\"#4CAF50\"},\"mode\":\"lines\",\"name\":\"\",\"r\":[0.946236559139785,0.8246102449888641,0.5914236706689536,0.06329113924050633,0.47244094488188976,0.7509727626459144,0.7011173184357541,0.2843601895734597,0.36952998379254454],\"showlegend\":false,\"theta\":[\"Regular Play\",\"From Free Kick\",\"From Throw In\",\"Other\",\"From Counter\",\"From Goal Kick\",\"From Keeper\",\"From Kick Off\",\"From Corner\"],\"type\":\"scatterpolar\",\"subplot\":\"polar2\"},{\"customdata\":[[49.28],[14.81],[17.24],[0.05],[1.8],[7.72],[5.02],[1.8],[2.28]],\"hovertemplate\":\"%{theta}\\u003cbr\\u003e %{customdata[0]:.2f}\\u003cextra\\u003e\\u003c\\u002fextra\\u003e\",\"marker\":{\"color\":\"#4CAF50\",\"size\":6},\"mode\":\"markers\",\"name\":\"\",\"r\":[0.946236559139785,0.8246102449888641,0.5914236706689536,0.06329113924050633,0.47244094488188976,0.7509727626459144,0.7011173184357541,0.2843601895734597,0.36952998379254454],\"showlegend\":false,\"theta\":[\"Regular Play\",\"From Free Kick\",\"From Throw In\",\"Other\",\"From Counter\",\"From Goal Kick\",\"From Keeper\",\"From Kick Off\",\"From Corner\"],\"type\":\"scatterpolar\",\"subplot\":\"polar2\"},{\"fill\":\"toself\",\"hoverinfo\":\"skip\",\"line\":{\"color\":\"#9E9E9E\"},\"mode\":\"lines\",\"name\":\"\",\"r\":[0.9032258064516129,0.7037861915367484,0.820926243567753,0.13924050632911392,0.24671916010498685,0.7071984435797666,0.4245810055865922,0.30963665086887837,0.5008103727714749],\"showlegend\":false,\"theta\":[\"Regular Play\",\"From Free Kick\",\"From Throw In\",\"Other\",\"From Counter\",\"From Goal Kick\",\"From Keeper\",\"From Kick Off\",\"From Corner\"],\"type\":\"scatterpolar\",\"subplot\":\"polar2\"},{\"customdata\":[[47.04],[12.64],[23.93],[0.11],[0.94],[7.27],[3.04],[1.96],[3.09]],\"hovertemplate\":\"%{theta}\\u003cbr\\u003e %{customdata[0]:.2f}\\u003cextra\\u003e\\u003c\\u002fextra\\u003e\",\"marker\":{\"color\":\"#9E9E9E\",\"size\":6},\"mode\":\"markers\",\"name\":\"\",\"r\":[0.9032258064516129,0.7037861915367484,0.820926243567753,0.13924050632911392,0.24671916010498685,0.7071984435797666,0.4245810055865922,0.30963665086887837,0.5008103727714749],\"showlegend\":false,\"theta\":[\"Regular Play\",\"From Free Kick\",\"From Throw In\",\"Other\",\"From Counter\",\"From Goal Kick\",\"From Keeper\",\"From Kick Off\",\"From Corner\"],\"type\":\"scatterpolar\",\"subplot\":\"polar2\"},{\"fill\":\"toself\",\"hoverinfo\":\"skip\",\"line\":{\"color\":\"#F44336\"},\"mode\":\"lines\",\"name\":\"\",\"r\":[0.8963133640552996,0.653674832962138,0.7790737564322471,0.4936708860759494,0.1679790026246719,0.7159533073929962,0.34776536312849166,0.7835703001579779,0.48946515397082657],\"showlegend\":false,\"theta\":[\"Regular Play\",\"From Free Kick\",\"From Throw In\",\"Other\",\"From Counter\",\"From Goal Kick\",\"From Keeper\",\"From Kick Off\",\"From Corner\"],\"type\":\"scatterpolar\",\"subplot\":\"polar2\"},{\"customdata\":[[46.68],[11.74],[22.71],[0.39],[0.64],[7.36],[2.49],[4.96],[3.02]],\"hovertemplate\":\"%{theta}\\u003cbr\\u003e %{customdata[0]:.2f}\\u003cextra\\u003e\\u003c\\u002fextra\\u003e\",\"marker\":{\"color\":\"#F44336\",\"size\":6},\"mode\":\"markers\",\"name\":\"\",\"r\":[0.8963133640552996,0.653674832962138,0.7790737564322471,0.4936708860759494,0.1679790026246719,0.7159533073929962,0.34776536312849166,0.7835703001579779,0.48946515397082657],\"showlegend\":false,\"theta\":[\"Regular Play\",\"From Free Kick\",\"From Throw In\",\"Other\",\"From Counter\",\"From Goal Kick\",\"From Keeper\",\"From Kick Off\",\"From Corner\"],\"type\":\"scatterpolar\",\"subplot\":\"polar2\"}],                        {\"template\":{\"data\":{\"histogram2dcontour\":[{\"type\":\"histogram2dcontour\",\"colorbar\":{\"outlinewidth\":0,\"ticks\":\"\"},\"colorscale\":[[0.0,\"#0d0887\"],[0.1111111111111111,\"#46039f\"],[0.2222222222222222,\"#7201a8\"],[0.3333333333333333,\"#9c179e\"],[0.4444444444444444,\"#bd3786\"],[0.5555555555555556,\"#d8576b\"],[0.6666666666666666,\"#ed7953\"],[0.7777777777777778,\"#fb9f3a\"],[0.8888888888888888,\"#fdca26\"],[1.0,\"#f0f921\"]]}],\"choropleth\":[{\"type\":\"choropleth\",\"colorbar\":{\"outlinewidth\":0,\"ticks\":\"\"}}],\"histogram2d\":[{\"type\":\"histogram2d\",\"colorbar\":{\"outlinewidth\":0,\"ticks\":\"\"},\"colorscale\":[[0.0,\"#0d0887\"],[0.1111111111111111,\"#46039f\"],[0.2222222222222222,\"#7201a8\"],[0.3333333333333333,\"#9c179e\"],[0.4444444444444444,\"#bd3786\"],[0.5555555555555556,\"#d8576b\"],[0.6666666666666666,\"#ed7953\"],[0.7777777777777778,\"#fb9f3a\"],[0.8888888888888888,\"#fdca26\"],[1.0,\"#f0f921\"]]}],\"heatmap\":[{\"type\":\"heatmap\",\"colorbar\":{\"outlinewidth\":0,\"ticks\":\"\"},\"colorscale\":[[0.0,\"#0d0887\"],[0.1111111111111111,\"#46039f\"],[0.2222222222222222,\"#7201a8\"],[0.3333333333333333,\"#9c179e\"],[0.4444444444444444,\"#bd3786\"],[0.5555555555555556,\"#d8576b\"],[0.6666666666666666,\"#ed7953\"],[0.7777777777777778,\"#fb9f3a\"],[0.8888888888888888,\"#fdca26\"],[1.0,\"#f0f921\"]]}],\"heatmapgl\":[{\"type\":\"heatmapgl\",\"colorbar\":{\"outlinewidth\":0,\"ticks\":\"\"},\"colorscale\":[[0.0,\"#0d0887\"],[0.1111111111111111,\"#46039f\"],[0.2222222222222222,\"#7201a8\"],[0.3333333333333333,\"#9c179e\"],[0.4444444444444444,\"#bd3786\"],[0.5555555555555556,\"#d8576b\"],[0.6666666666666666,\"#ed7953\"],[0.7777777777777778,\"#fb9f3a\"],[0.8888888888888888,\"#fdca26\"],[1.0,\"#f0f921\"]]}],\"contourcarpet\":[{\"type\":\"contourcarpet\",\"colorbar\":{\"outlinewidth\":0,\"ticks\":\"\"}}],\"contour\":[{\"type\":\"contour\",\"colorbar\":{\"outlinewidth\":0,\"ticks\":\"\"},\"colorscale\":[[0.0,\"#0d0887\"],[0.1111111111111111,\"#46039f\"],[0.2222222222222222,\"#7201a8\"],[0.3333333333333333,\"#9c179e\"],[0.4444444444444444,\"#bd3786\"],[0.5555555555555556,\"#d8576b\"],[0.6666666666666666,\"#ed7953\"],[0.7777777777777778,\"#fb9f3a\"],[0.8888888888888888,\"#fdca26\"],[1.0,\"#f0f921\"]]}],\"surface\":[{\"type\":\"surface\",\"colorbar\":{\"outlinewidth\":0,\"ticks\":\"\"},\"colorscale\":[[0.0,\"#0d0887\"],[0.1111111111111111,\"#46039f\"],[0.2222222222222222,\"#7201a8\"],[0.3333333333333333,\"#9c179e\"],[0.4444444444444444,\"#bd3786\"],[0.5555555555555556,\"#d8576b\"],[0.6666666666666666,\"#ed7953\"],[0.7777777777777778,\"#fb9f3a\"],[0.8888888888888888,\"#fdca26\"],[1.0,\"#f0f921\"]]}],\"mesh3d\":[{\"type\":\"mesh3d\",\"colorbar\":{\"outlinewidth\":0,\"ticks\":\"\"}}],\"scatter\":[{\"fillpattern\":{\"fillmode\":\"overlay\",\"size\":10,\"solidity\":0.2},\"type\":\"scatter\"}],\"parcoords\":[{\"type\":\"parcoords\",\"line\":{\"colorbar\":{\"outlinewidth\":0,\"ticks\":\"\"}}}],\"scatterpolargl\":[{\"type\":\"scatterpolargl\",\"marker\":{\"colorbar\":{\"outlinewidth\":0,\"ticks\":\"\"}}}],\"bar\":[{\"error_x\":{\"color\":\"#2a3f5f\"},\"error_y\":{\"color\":\"#2a3f5f\"},\"marker\":{\"line\":{\"color\":\"#E5ECF6\",\"width\":0.5},\"pattern\":{\"fillmode\":\"overlay\",\"size\":10,\"solidity\":0.2}},\"type\":\"bar\"}],\"scattergeo\":[{\"type\":\"scattergeo\",\"marker\":{\"colorbar\":{\"outlinewidth\":0,\"ticks\":\"\"}}}],\"scatterpolar\":[{\"type\":\"scatterpolar\",\"marker\":{\"colorbar\":{\"outlinewidth\":0,\"ticks\":\"\"}}}],\"histogram\":[{\"marker\":{\"pattern\":{\"fillmode\":\"overlay\",\"size\":10,\"solidity\":0.2}},\"type\":\"histogram\"}],\"scattergl\":[{\"type\":\"scattergl\",\"marker\":{\"colorbar\":{\"outlinewidth\":0,\"ticks\":\"\"}}}],\"scatter3d\":[{\"type\":\"scatter3d\",\"line\":{\"colorbar\":{\"outlinewidth\":0,\"ticks\":\"\"}},\"marker\":{\"colorbar\":{\"outlinewidth\":0,\"ticks\":\"\"}}}],\"scattermapbox\":[{\"type\":\"scattermapbox\",\"marker\":{\"colorbar\":{\"outlinewidth\":0,\"ticks\":\"\"}}}],\"scatterternary\":[{\"type\":\"scatterternary\",\"marker\":{\"colorbar\":{\"outlinewidth\":0,\"ticks\":\"\"}}}],\"scattercarpet\":[{\"type\":\"scattercarpet\",\"marker\":{\"colorbar\":{\"outlinewidth\":0,\"ticks\":\"\"}}}],\"carpet\":[{\"aaxis\":{\"endlinecolor\":\"#2a3f5f\",\"gridcolor\":\"white\",\"linecolor\":\"white\",\"minorgridcolor\":\"white\",\"startlinecolor\":\"#2a3f5f\"},\"baxis\":{\"endlinecolor\":\"#2a3f5f\",\"gridcolor\":\"white\",\"linecolor\":\"white\",\"minorgridcolor\":\"white\",\"startlinecolor\":\"#2a3f5f\"},\"type\":\"carpet\"}],\"table\":[{\"cells\":{\"fill\":{\"color\":\"#EBF0F8\"},\"line\":{\"color\":\"white\"}},\"header\":{\"fill\":{\"color\":\"#C8D4E3\"},\"line\":{\"color\":\"white\"}},\"type\":\"table\"}],\"barpolar\":[{\"marker\":{\"line\":{\"color\":\"#E5ECF6\",\"width\":0.5},\"pattern\":{\"fillmode\":\"overlay\",\"size\":10,\"solidity\":0.2}},\"type\":\"barpolar\"}],\"pie\":[{\"automargin\":true,\"type\":\"pie\"}]},\"layout\":{\"autotypenumbers\":\"strict\",\"colorway\":[\"#636efa\",\"#EF553B\",\"#00cc96\",\"#ab63fa\",\"#FFA15A\",\"#19d3f3\",\"#FF6692\",\"#B6E880\",\"#FF97FF\",\"#FECB52\"],\"font\":{\"color\":\"#2a3f5f\"},\"hovermode\":\"closest\",\"hoverlabel\":{\"align\":\"left\"},\"paper_bgcolor\":\"white\",\"plot_bgcolor\":\"#E5ECF6\",\"polar\":{\"bgcolor\":\"#E5ECF6\",\"angularaxis\":{\"gridcolor\":\"white\",\"linecolor\":\"white\",\"ticks\":\"\"},\"radialaxis\":{\"gridcolor\":\"white\",\"linecolor\":\"white\",\"ticks\":\"\"}},\"ternary\":{\"bgcolor\":\"#E5ECF6\",\"aaxis\":{\"gridcolor\":\"white\",\"linecolor\":\"white\",\"ticks\":\"\"},\"baxis\":{\"gridcolor\":\"white\",\"linecolor\":\"white\",\"ticks\":\"\"},\"caxis\":{\"gridcolor\":\"white\",\"linecolor\":\"white\",\"ticks\":\"\"}},\"coloraxis\":{\"colorbar\":{\"outlinewidth\":0,\"ticks\":\"\"}},\"colorscale\":{\"sequential\":[[0.0,\"#0d0887\"],[0.1111111111111111,\"#46039f\"],[0.2222222222222222,\"#7201a8\"],[0.3333333333333333,\"#9c179e\"],[0.4444444444444444,\"#bd3786\"],[0.5555555555555556,\"#d8576b\"],[0.6666666666666666,\"#ed7953\"],[0.7777777777777778,\"#fb9f3a\"],[0.8888888888888888,\"#fdca26\"],[1.0,\"#f0f921\"]],\"sequentialminus\":[[0.0,\"#0d0887\"],[0.1111111111111111,\"#46039f\"],[0.2222222222222222,\"#7201a8\"],[0.3333333333333333,\"#9c179e\"],[0.4444444444444444,\"#bd3786\"],[0.5555555555555556,\"#d8576b\"],[0.6666666666666666,\"#ed7953\"],[0.7777777777777778,\"#fb9f3a\"],[0.8888888888888888,\"#fdca26\"],[1.0,\"#f0f921\"]],\"diverging\":[[0,\"#8e0152\"],[0.1,\"#c51b7d\"],[0.2,\"#de77ae\"],[0.3,\"#f1b6da\"],[0.4,\"#fde0ef\"],[0.5,\"#f7f7f7\"],[0.6,\"#e6f5d0\"],[0.7,\"#b8e186\"],[0.8,\"#7fbc41\"],[0.9,\"#4d9221\"],[1,\"#276419\"]]},\"xaxis\":{\"gridcolor\":\"white\",\"linecolor\":\"white\",\"ticks\":\"\",\"title\":{\"standoff\":15},\"zerolinecolor\":\"white\",\"automargin\":true,\"zerolinewidth\":2},\"yaxis\":{\"gridcolor\":\"white\",\"linecolor\":\"white\",\"ticks\":\"\",\"title\":{\"standoff\":15},\"zerolinecolor\":\"white\",\"automargin\":true,\"zerolinewidth\":2},\"scene\":{\"xaxis\":{\"backgroundcolor\":\"#E5ECF6\",\"gridcolor\":\"white\",\"linecolor\":\"white\",\"showbackground\":true,\"ticks\":\"\",\"zerolinecolor\":\"white\",\"gridwidth\":2},\"yaxis\":{\"backgroundcolor\":\"#E5ECF6\",\"gridcolor\":\"white\",\"linecolor\":\"white\",\"showbackground\":true,\"ticks\":\"\",\"zerolinecolor\":\"white\",\"gridwidth\":2},\"zaxis\":{\"backgroundcolor\":\"#E5ECF6\",\"gridcolor\":\"white\",\"linecolor\":\"white\",\"showbackground\":true,\"ticks\":\"\",\"zerolinecolor\":\"white\",\"gridwidth\":2}},\"shapedefaults\":{\"line\":{\"color\":\"#2a3f5f\"}},\"annotationdefaults\":{\"arrowcolor\":\"#2a3f5f\",\"arrowhead\":0,\"arrowwidth\":1},\"geo\":{\"bgcolor\":\"white\",\"landcolor\":\"#E5ECF6\",\"subunitcolor\":\"white\",\"showland\":true,\"showlakes\":true,\"lakecolor\":\"white\"},\"title\":{\"x\":0.05},\"mapbox\":{\"style\":\"light\"}}},\"polar\":{\"domain\":{\"x\":[0.0,0.294],\"y\":[0.0,1.0]},\"radialaxis\":{\"visible\":false},\"angularaxis\":{\"tickfont\":{\"size\":9},\"visible\":true}},\"polar2\":{\"domain\":{\"x\":[0.7060000000000001,1.0],\"y\":[0.0,1.0]},\"radialaxis\":{\"visible\":false},\"angularaxis\":{\"tickfont\":{\"size\":9},\"visible\":true}},\"annotations\":[{\"font\":{\"color\":\"#FF8C00\"},\"showarrow\":false,\"text\":\"\\u003cb\\u003eGeneral Stats\\u003c\\u002fb\\u003e\",\"x\":0.147,\"xanchor\":\"center\",\"xref\":\"paper\",\"y\":1.0,\"yanchor\":\"bottom\",\"yref\":\"paper\"},{\"font\":{\"color\":\"#FF8C00\"},\"showarrow\":false,\"text\":\"\\u003cb\\u003eMatch State Distribution\\u003c\\u002fb\\u003e\",\"x\":0.5,\"xanchor\":\"center\",\"xref\":\"paper\",\"y\":1.0,\"yanchor\":\"bottom\",\"yref\":\"paper\"},{\"font\":{\"color\":\"#FF8C00\"},\"showarrow\":false,\"text\":\"\\u003cb\\u003ePlay Patterns\\u003c\\u002fb\\u003e\",\"x\":0.853,\"xanchor\":\"center\",\"xref\":\"paper\",\"y\":1.0,\"yanchor\":\"bottom\",\"yref\":\"paper\"}],\"title\":{\"font\":{\"color\":\"#FF8C00\"},\"text\":\"\\u003cb\\u003eBehavior of opponents of Rennes according to score\\u003c\\u002fb\\u003e\",\"x\":0.5},\"margin\":{\"t\":80,\"b\":40},\"showlegend\":true,\"height\":700},                        {\"responsive\": true}                    ).then(function(){\n",
       "                            \n",
       "var gd = document.getElementById('7926f40a-4618-43a7-bfd7-25d831fea6a2');\n",
       "var x = new MutationObserver(function (mutations, observer) {{\n",
       "        var display = window.getComputedStyle(gd).display;\n",
       "        if (!display || display === 'none') {{\n",
       "            console.log([gd, 'removed!']);\n",
       "            Plotly.purge(gd);\n",
       "            observer.disconnect();\n",
       "        }}\n",
       "}});\n",
       "\n",
       "// Listen for the removal of the full notebook cells\n",
       "var notebookContainer = gd.closest('#notebook-container');\n",
       "if (notebookContainer) {{\n",
       "    x.observe(notebookContainer, {childList: true});\n",
       "}}\n",
       "\n",
       "// Listen for the clearing of the current output cell\n",
       "var outputEl = gd.closest('.output');\n",
       "if (outputEl) {{\n",
       "    x.observe(outputEl, {childList: true});\n",
       "}}\n",
       "\n",
       "                        })                };                });            </script>        </div>"
      ]
     },
     "metadata": {},
     "output_type": "display_data"
    },
    {
     "name": "stdin",
     "output_type": "stream",
     "text": [
      "\n",
      "What would you like to do?\n",
      "1. Show team dashboard only\n",
      "2. Show opponent dashboard only\n",
      "3. Show both dashboards\n",
      "4. Save full dashboards as PDF\n",
      "5. Choose another team\n",
      "6. Exit\n",
      "👉 Enter your choice (1-6):  4\n"
     ]
    },
    {
     "name": "stdout",
     "output_type": "stream",
     "text": [
      "✅ Both dashboards saved successfully in the 'charts' folder.\n"
     ]
    },
    {
     "name": "stdin",
     "output_type": "stream",
     "text": [
      "\n",
      "What would you like to do?\n",
      "1. Show team dashboard only\n",
      "2. Show opponent dashboard only\n",
      "3. Show both dashboards\n",
      "4. Save full dashboards as PDF\n",
      "5. Choose another team\n",
      "6. Exit\n",
      "👉 Enter your choice (1-6):  6\n"
     ]
    },
    {
     "name": "stdout",
     "output_type": "stream",
     "text": [
      "👋 Bye!\n"
     ]
    }
   ],
   "source": [
    "# Importing libraries\n",
    "import pandas as pd\n",
    "import plotly.graph_objects as go\n",
    "from plotly.subplots import make_subplots\n",
    "import os\n",
    "\n",
    "# Team selection\n",
    "def choose_team(csv_path='table/table_team.csv'):\n",
    "    try:\n",
    "        df = pd.read_csv(csv_path)\n",
    "        if 'team_name' not in df.columns:\n",
    "            print(\"❌ The 'team_name' column was not found in the file.\")\n",
    "            return None, None\n",
    "        teams = sorted(df['team_name'].dropna().unique())\n",
    "        print(\"\\n🔍 Ligue 1 15/16 season teams:\")\n",
    "        for idx, team in enumerate(teams, 1):\n",
    "            print(f\"{idx}. {team}\")\n",
    "        while True:\n",
    "            choice = input(\"\\n👉 Enter the number of the team you want to analyze: \")\n",
    "            if choice.isdigit():\n",
    "                choice = int(choice)\n",
    "                if 1 <= choice <= len(teams):\n",
    "                    selected_team = teams[choice - 1]\n",
    "                    return selected_team, df\n",
    "            print(\"❗ Invalid input. Please enter a valid number.\")\n",
    "    except FileNotFoundError:\n",
    "        print(f\"❌ File '{csv_path}' not found.\")\n",
    "        return None, None\n",
    "    except Exception as e:\n",
    "        print(f\"❌ An error occurred: {e}\")\n",
    "        return None, None\n",
    "\n",
    "# Create dashboard for a dataset\n",
    "def build_dashboard(team_name, df, title):\n",
    "    import plotly.graph_objects as go\n",
    "    from plotly.subplots import make_subplots\n",
    "\n",
    "    # Statistics and status list\n",
    "    base_categories = ['goal', 'xg', 'poss', 'duel_won', 'ppda', 'height_def_act', 'foul_won', 'foul_com']\n",
    "    play_categories = ['regular_play', 'from_free_kick', 'from_throw_in', 'other',\n",
    "                       'from_counter', 'from_goal_kick', 'from_keeper', 'from_kick_off', 'from_corner']\n",
    "    match_states = ['lead', 'draw', 'loose']\n",
    "\n",
    "    # Retrieve team information\n",
    "    team_data = df[df['team_name'] == team_name]\n",
    "\n",
    "    # Pie chart values in floating\n",
    "    lead = float(team_data['lead_prop'])\n",
    "    draw = float(team_data['draw_prop'])\n",
    "    loose = float(team_data['loose_prop'])\n",
    "    pie_labels = ['Leading', 'Drawing', 'Being Led'] # State\n",
    "    pie_values = [lead, draw, loose]\n",
    "    pie_colors = ['#4CAF50', '#9E9E9E', '#F44336'] # Green, grey, red\n",
    "\n",
    "    # Normalize base_categories\n",
    "    radar_data = {state: [] for state in match_states}\n",
    "    real_radar_data = {state: [] for state in match_states}\n",
    "    for base in base_categories:\n",
    "        # Maximum value recovery by category\n",
    "        max_value = df[[f\"lead_{base}\", f\"draw_{base}\", f\"loose_{base}\"].copy()].max().max()\n",
    "        for state in match_states:\n",
    "            raw_val = float(team_data[f\"{state}_{base}\"]) # Float\n",
    "            norm_val = raw_val / max_value if max_value != 0 else 0 # Normalization\n",
    "            radar_data[state].append(norm_val)\n",
    "            real_radar_data[state].append(raw_val)\n",
    "    \n",
    "    # List of labels for Radar 1\n",
    "    radar_labels = ['Goal', 'Xg', 'Possession', 'Duel won', 'PPDA', 'Height def act', 'Foul won', 'Foul committed']\n",
    "\n",
    "    # Normalize play_patterns\n",
    "    radar_data_phase = {state: [] for state in match_states}\n",
    "    real_radar_data_phase = {state: [] for state in match_states}\n",
    "    radar_labels_phase = [x.replace('_', ' ').title() for x in play_categories]\n",
    "    for base in play_categories:\n",
    "        # Maximum value recovery by category\n",
    "        max_value = df[[f\"lead_{base}\", f\"draw_{base}\", f\"loose_{base}\"].copy()].max().max()\n",
    "        for state in match_states:\n",
    "            val = float(team_data[f\"{state}_{base}\"]) # Float\n",
    "            radar_data_phase[state].append(val / max_value if max_value != 0 else 0)\n",
    "            real_radar_data_phase[state].append(val)\n",
    "\n",
    "    # Create figure with 3 subplots\n",
    "    fig = make_subplots(\n",
    "        rows=1, cols=3,\n",
    "        specs=[[{'type': 'polar'}, {'type': 'domain'}, {'type': 'polar'}]],\n",
    "        column_widths=[0.35, 0.3, 0.35],\n",
    "        horizontal_spacing=0.08,\n",
    "        subplot_titles=[\"General Stats\", \"Match State Distribution\", \"Play Patterns\"] # Name of charts\n",
    "    )\n",
    "\n",
    "    # Color subplot titles\n",
    "    for annotation in fig['layout']['annotations']:\n",
    "        annotation['text'] = f\"<b>{annotation['text']}</b>\"\n",
    "        annotation['font'] = dict(color='#FF8C00')\n",
    "\n",
    "    # Pie Chart\n",
    "    fig.add_trace(go.Pie(\n",
    "        labels=pie_labels,\n",
    "        values=pie_values,\n",
    "        marker=dict(colors=pie_colors, line=dict(color='white', width=2)),\n",
    "        hovertemplate='%{label}<br> %{value:.1f}%<extra></extra>', # Title in bold\n",
    "        textinfo='label+percent',\n",
    "        hole=0.45,\n",
    "        showlegend=True\n",
    "    ), row=1, col=2)\n",
    "\n",
    "    # Radar 1: General Stats\n",
    "    for state, color in zip(match_states, ['#4CAF50', '#9E9E9E', '#F44336']): # Green, Grey, Red\n",
    "        fig.add_trace(go.Scatterpolar(\n",
    "            r=radar_data[state],\n",
    "            theta=radar_labels,\n",
    "            fill='toself',\n",
    "            mode='lines',\n",
    "            name=state.capitalize(),\n",
    "            line=dict(color=color),\n",
    "            hoverinfo='skip',\n",
    "            showlegend=False\n",
    "        ), row=1, col=1)\n",
    "\n",
    "        fig.add_trace(go.Scatterpolar(\n",
    "            r=radar_data[state],\n",
    "            theta=radar_labels,\n",
    "            mode='markers',\n",
    "            marker=dict(size=6, color=color),\n",
    "            customdata=[[v] for v in real_radar_data[state]],\n",
    "            hovertemplate='%{theta}<br> %{customdata[0]:.2f}<extra></extra>',\n",
    "            name='',\n",
    "            showlegend=False\n",
    "        ), row=1, col=1)\n",
    "\n",
    "    # Radar 2: Play Patterns\n",
    "    for state, color in zip(match_states, ['#4CAF50', '#9E9E9E', '#F44336']):\n",
    "        fig.add_trace(go.Scatterpolar(\n",
    "            r=radar_data_phase[state],\n",
    "            theta=radar_labels_phase,\n",
    "            fill='toself',\n",
    "            mode='lines',\n",
    "            line=dict(color=color),\n",
    "            name='',\n",
    "            hoverinfo='skip',\n",
    "            showlegend=False\n",
    "        ), row=1, col=3)\n",
    "\n",
    "        fig.add_trace(go.Scatterpolar(\n",
    "            r=radar_data_phase[state],\n",
    "            theta=radar_labels_phase,\n",
    "            mode='markers',\n",
    "            marker=dict(size=6, color=color),\n",
    "            customdata=[[v] for v in real_radar_data_phase[state]],\n",
    "            hovertemplate='%{theta}<br> %{customdata[0]:.2f}<extra></extra>',\n",
    "            name='',\n",
    "            showlegend=False\n",
    "        ), row=1, col=3)\n",
    "\n",
    "    # Final layout settings\n",
    "    fig.update_layout(\n",
    "        title=dict(text=f\"<b>{title}</b>\", x=0.5, font=dict(color='#FF8C00')), # Dark orange\n",
    "        polar=dict(\n",
    "            radialaxis=dict(visible=False),\n",
    "            angularaxis=dict(visible=True, tickfont=dict(size=9))\n",
    "        ),\n",
    "        polar2=dict(\n",
    "            radialaxis=dict(visible=False),\n",
    "            angularaxis=dict(visible=True, tickfont=dict(size=9))\n",
    "        ),\n",
    "        showlegend=True,\n",
    "        height=700,\n",
    "        margin=dict(t=80, b=40)\n",
    "    )\n",
    "\n",
    "    return fig\n",
    "\n",
    "# Main loop with options\n",
    "def main():\n",
    "\n",
    "    # Create 'charts' folder if it doesn't exist\n",
    "    os.makedirs(\"charts\", exist_ok=True)\n",
    "\n",
    "    while True:\n",
    "        # Prompt user to choose a team\n",
    "        team, _ = choose_team()\n",
    "        if not team:\n",
    "            break\n",
    "\n",
    "        # Load data for the selected team and opponents\n",
    "        df_team = pd.read_csv('table/table_team.csv')\n",
    "        df_against = pd.read_csv('table/table_against_team.csv')\n",
    "\n",
    "        # Build dashboards for the team and for its opponents\n",
    "        fig1 = build_dashboard(team, df_team, f\"Behavior of {team} according to score\")\n",
    "        fig2 = build_dashboard(team, df_against, f\"Behavior of opponents of {team} according to score\")\n",
    "\n",
    "        while True:\n",
    "            # Show action menu\n",
    "            next_action = input(\n",
    "                \"\\nWhat would you like to do?\\n\"\n",
    "                \"1. Show team dashboard only\\n\"\n",
    "                \"2. Show opponent dashboard only\\n\"\n",
    "                \"3. Show both dashboards\\n\"\n",
    "                \"4. Save full dashboards as PDF\\n\"\n",
    "                \"5. Choose another team\\n\"\n",
    "                \"6. Exit\\n\"\n",
    "                \"👉 Enter your choice (1-6): \"\n",
    "            )\n",
    "\n",
    "            if next_action == '1':\n",
    "                fig1.show()\n",
    "            elif next_action == '2':\n",
    "                fig2.show()\n",
    "            elif next_action == '3':\n",
    "                fig1.show()\n",
    "                fig2.show()\n",
    "            elif next_action == '4':\n",
    "                try:\n",
    "                    # Save both dashboards in the 'Charts' folder\n",
    "                    fig1.write_image(f\"charts/{team}_team_dashboard.pdf\", width=1000, height=700)\n",
    "                    fig2.write_image(f\"charts/{team}_opponents_dashboard.pdf\", width=1000, height=700)\n",
    "                    print(\"✅ Both dashboards saved successfully in the 'charts' folder.\")\n",
    "                except Exception as e:\n",
    "                    print(f\"❌ Export failed: {e}\")\n",
    "            elif next_action == '5':\n",
    "                break  # Back to team selection\n",
    "            elif next_action == '6':\n",
    "                print(\"👋 Bye!\")\n",
    "                return\n",
    "            else:\n",
    "                print(\"❗ Invalid input. Please choose a valid option.\")\n",
    "\n",
    "\n",
    "\n",
    "\n",
    "# Run the app\n",
    "main()"
   ]
  }
 ],
 "metadata": {
  "kernelspec": {
   "display_name": "Python 3 (ipykernel)",
   "language": "python",
   "name": "python3"
  },
  "language_info": {
   "codemirror_mode": {
    "name": "ipython",
    "version": 3
   },
   "file_extension": ".py",
   "mimetype": "text/x-python",
   "name": "python",
   "nbconvert_exporter": "python",
   "pygments_lexer": "ipython3",
   "version": "3.12.7"
  }
 },
 "nbformat": 4,
 "nbformat_minor": 5
}
